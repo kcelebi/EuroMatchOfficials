{
 "cells": [
  {
   "cell_type": "code",
   "execution_count": 1,
   "id": "3af7c716",
   "metadata": {},
   "outputs": [],
   "source": [
    "import numpy as np\n",
    "import pandas as pd\n",
    "import lxml.etree as etree\n",
    "import sqlite3 as sql\n",
    "from process import *\n",
    "from tqdm.notebook import tqdm\n",
    "import matplotlib.pyplot as plt"
   ]
  },
  {
   "cell_type": "code",
   "execution_count": 479,
   "id": "387ebaf0",
   "metadata": {},
   "outputs": [],
   "source": [
    "from sklearn.linear_model import LogisticRegression\n",
    "from sklearn.model_selection import train_test_split, GridSearchCV\n",
    "from sklearn.metrics import precision_recall_fscore_support, precision_score\n",
    "from sklearn.inspection import permutation_importance\n",
    "from sklearn.preprocessing import StandardScaler\n",
    "from sklearn.ensemble import RandomForestClassifier\n",
    "from sklearn.base import BaseEstimator, TransformerMixin\n",
    "from sklearn.preprocessing import PolynomialFeatures\n",
    "from sklearn.pipeline import Pipeline"
   ]
  },
  {
   "cell_type": "code",
   "execution_count": 3,
   "id": "26c4ef59",
   "metadata": {},
   "outputs": [
    {
     "data": {
      "text/html": [
       "<div>\n",
       "<style scoped>\n",
       "    .dataframe tbody tr th:only-of-type {\n",
       "        vertical-align: middle;\n",
       "    }\n",
       "\n",
       "    .dataframe tbody tr th {\n",
       "        vertical-align: top;\n",
       "    }\n",
       "\n",
       "    .dataframe thead th {\n",
       "        text-align: right;\n",
       "    }\n",
       "</style>\n",
       "<table border=\"1\" class=\"dataframe\">\n",
       "  <thead>\n",
       "    <tr style=\"text-align: right;\">\n",
       "      <th></th>\n",
       "      <th>match_api_id</th>\n",
       "      <th>league_id</th>\n",
       "      <th>date</th>\n",
       "      <th>home_team_api_id</th>\n",
       "      <th>home_team_name</th>\n",
       "      <th>away_team_api_id</th>\n",
       "      <th>away_team_name</th>\n",
       "      <th>home_team_goal</th>\n",
       "      <th>away_team_goal</th>\n",
       "      <th>home_team_foul_reason_from_behind</th>\n",
       "      <th>...</th>\n",
       "      <th>away_team_card_reason_pushing</th>\n",
       "      <th>home_team_card_reason_diving</th>\n",
       "      <th>away_team_card_reason_diving</th>\n",
       "      <th>home_team_card_reason_hands</th>\n",
       "      <th>away_team_card_reason_hands</th>\n",
       "      <th>home_team_card_reason_Removing Shirt</th>\n",
       "      <th>away_team_card_reason_Removing Shirt</th>\n",
       "      <th>result</th>\n",
       "      <th>home_elo</th>\n",
       "      <th>away_elo</th>\n",
       "    </tr>\n",
       "  </thead>\n",
       "  <tbody>\n",
       "    <tr>\n",
       "      <th>0</th>\n",
       "      <td>489044</td>\n",
       "      <td>1729</td>\n",
       "      <td>2008-08-16 00:00:00</td>\n",
       "      <td>8472</td>\n",
       "      <td>Sunderland</td>\n",
       "      <td>8650</td>\n",
       "      <td>Liverpool</td>\n",
       "      <td>0</td>\n",
       "      <td>2</td>\n",
       "      <td>2.0</td>\n",
       "      <td>...</td>\n",
       "      <td>0.0</td>\n",
       "      <td>0.0</td>\n",
       "      <td>0.0</td>\n",
       "      <td>0.0</td>\n",
       "      <td>0.0</td>\n",
       "      <td>0.0</td>\n",
       "      <td>0.0</td>\n",
       "      <td>L</td>\n",
       "      <td>1600.0</td>\n",
       "      <td>1600.0</td>\n",
       "    </tr>\n",
       "    <tr>\n",
       "      <th>1</th>\n",
       "      <td>489045</td>\n",
       "      <td>1729</td>\n",
       "      <td>2008-08-16 00:00:00</td>\n",
       "      <td>8654</td>\n",
       "      <td>West Ham United</td>\n",
       "      <td>8528</td>\n",
       "      <td>Wigan Athletic</td>\n",
       "      <td>2</td>\n",
       "      <td>4</td>\n",
       "      <td>0.0</td>\n",
       "      <td>...</td>\n",
       "      <td>0.0</td>\n",
       "      <td>0.0</td>\n",
       "      <td>0.0</td>\n",
       "      <td>0.0</td>\n",
       "      <td>0.0</td>\n",
       "      <td>0.0</td>\n",
       "      <td>0.0</td>\n",
       "      <td>L</td>\n",
       "      <td>1600.0</td>\n",
       "      <td>1600.0</td>\n",
       "    </tr>\n",
       "    <tr>\n",
       "      <th>2</th>\n",
       "      <td>489047</td>\n",
       "      <td>1729</td>\n",
       "      <td>2008-08-16 00:00:00</td>\n",
       "      <td>8668</td>\n",
       "      <td>Everton</td>\n",
       "      <td>8655</td>\n",
       "      <td>Blackburn Rovers</td>\n",
       "      <td>2</td>\n",
       "      <td>12</td>\n",
       "      <td>2.0</td>\n",
       "      <td>...</td>\n",
       "      <td>0.0</td>\n",
       "      <td>0.0</td>\n",
       "      <td>0.0</td>\n",
       "      <td>0.0</td>\n",
       "      <td>0.0</td>\n",
       "      <td>0.0</td>\n",
       "      <td>0.0</td>\n",
       "      <td>L</td>\n",
       "      <td>1600.0</td>\n",
       "      <td>1600.0</td>\n",
       "    </tr>\n",
       "    <tr>\n",
       "      <th>3</th>\n",
       "      <td>489048</td>\n",
       "      <td>1729</td>\n",
       "      <td>2008-08-16 00:00:00</td>\n",
       "      <td>8549</td>\n",
       "      <td>Middlesbrough</td>\n",
       "      <td>8586</td>\n",
       "      <td>Tottenham Hotspur</td>\n",
       "      <td>2</td>\n",
       "      <td>4</td>\n",
       "      <td>0.0</td>\n",
       "      <td>...</td>\n",
       "      <td>0.0</td>\n",
       "      <td>0.0</td>\n",
       "      <td>0.0</td>\n",
       "      <td>0.0</td>\n",
       "      <td>0.0</td>\n",
       "      <td>0.0</td>\n",
       "      <td>0.0</td>\n",
       "      <td>L</td>\n",
       "      <td>1600.0</td>\n",
       "      <td>1600.0</td>\n",
       "    </tr>\n",
       "    <tr>\n",
       "      <th>4</th>\n",
       "      <td>489049</td>\n",
       "      <td>1729</td>\n",
       "      <td>2008-08-16 00:00:00</td>\n",
       "      <td>8559</td>\n",
       "      <td>Bolton Wanderers</td>\n",
       "      <td>10194</td>\n",
       "      <td>Stoke City</td>\n",
       "      <td>3</td>\n",
       "      <td>4</td>\n",
       "      <td>2.0</td>\n",
       "      <td>...</td>\n",
       "      <td>0.0</td>\n",
       "      <td>0.0</td>\n",
       "      <td>0.0</td>\n",
       "      <td>0.0</td>\n",
       "      <td>0.0</td>\n",
       "      <td>0.0</td>\n",
       "      <td>0.0</td>\n",
       "      <td>L</td>\n",
       "      <td>1600.0</td>\n",
       "      <td>1600.0</td>\n",
       "    </tr>\n",
       "  </tbody>\n",
       "</table>\n",
       "<p>5 rows × 70 columns</p>\n",
       "</div>"
      ],
      "text/plain": [
       "   match_api_id  league_id                 date  home_team_api_id  \\\n",
       "0        489044       1729  2008-08-16 00:00:00              8472   \n",
       "1        489045       1729  2008-08-16 00:00:00              8654   \n",
       "2        489047       1729  2008-08-16 00:00:00              8668   \n",
       "3        489048       1729  2008-08-16 00:00:00              8549   \n",
       "4        489049       1729  2008-08-16 00:00:00              8559   \n",
       "\n",
       "     home_team_name  away_team_api_id     away_team_name  home_team_goal  \\\n",
       "0        Sunderland              8650          Liverpool               0   \n",
       "1   West Ham United              8528     Wigan Athletic               2   \n",
       "2           Everton              8655   Blackburn Rovers               2   \n",
       "3     Middlesbrough              8586  Tottenham Hotspur               2   \n",
       "4  Bolton Wanderers             10194         Stoke City               3   \n",
       "\n",
       "   away_team_goal  home_team_foul_reason_from_behind  ...  \\\n",
       "0               2                                2.0  ...   \n",
       "1               4                                0.0  ...   \n",
       "2              12                                2.0  ...   \n",
       "3               4                                0.0  ...   \n",
       "4               4                                2.0  ...   \n",
       "\n",
       "   away_team_card_reason_pushing  home_team_card_reason_diving  \\\n",
       "0                            0.0                           0.0   \n",
       "1                            0.0                           0.0   \n",
       "2                            0.0                           0.0   \n",
       "3                            0.0                           0.0   \n",
       "4                            0.0                           0.0   \n",
       "\n",
       "   away_team_card_reason_diving  home_team_card_reason_hands  \\\n",
       "0                           0.0                          0.0   \n",
       "1                           0.0                          0.0   \n",
       "2                           0.0                          0.0   \n",
       "3                           0.0                          0.0   \n",
       "4                           0.0                          0.0   \n",
       "\n",
       "   away_team_card_reason_hands  home_team_card_reason_Removing Shirt  \\\n",
       "0                          0.0                                   0.0   \n",
       "1                          0.0                                   0.0   \n",
       "2                          0.0                                   0.0   \n",
       "3                          0.0                                   0.0   \n",
       "4                          0.0                                   0.0   \n",
       "\n",
       "   away_team_card_reason_Removing Shirt  result  home_elo  away_elo  \n",
       "0                                   0.0       L    1600.0    1600.0  \n",
       "1                                   0.0       L    1600.0    1600.0  \n",
       "2                                   0.0       L    1600.0    1600.0  \n",
       "3                                   0.0       L    1600.0    1600.0  \n",
       "4                                   0.0       L    1600.0    1600.0  \n",
       "\n",
       "[5 rows x 70 columns]"
      ]
     },
     "execution_count": 3,
     "metadata": {},
     "output_type": "execute_result"
    }
   ],
   "source": [
    "data = pd.read_csv('../data/prem_data_elo.csv', index_col = 'Unnamed: 0')\n",
    "data.head()"
   ]
  },
  {
   "cell_type": "code",
   "execution_count": 502,
   "id": "1b33f0f9",
   "metadata": {},
   "outputs": [],
   "source": [
    "def transform_target(X, y, class_labels = ['W', 'D', 'L'], weight = True, down_sample = True):\n",
    "    if weight and down_sample:\n",
    "        size = np.min(np.unique(pd.concat([y[y == x] for x in class_labels]), return_counts = True)[1])\n",
    "        idx = [np.random.choice(y[y == x].index.values, size = size) for x in class_labels]\n",
    "        down_idx = np.concatenate(idx)\n",
    "        weights = {}\n",
    "        for class_ in class_labels:\n",
    "            weights[class_] = y[y == class_].shape[0]/size\n",
    "\n",
    "        return X.iloc[down_idx], y[down_idx], weights\n",
    "    elif weight and not down_sample:\n",
    "        size = np.max(np.unique(pd.concat([y[y == x] for x in class_labels]), return_counts = True)[1])\n",
    "        weights = {}\n",
    "        for i, class_ in enumerate(class_labels):\n",
    "            weights[class_] = size/y[y == class_].shape[0]\n",
    "        return X, y, weights\n",
    "    else:\n",
    "        y_ = pd.concat([y[y == x] for x in class_labels])\n",
    "        return X.iloc[y_.index], y_, None\n",
    "\n",
    "def RFpipe(weights = None, params = {}):\n",
    "    return Pipeline(steps = [\n",
    "        ('scaler', StandardScaler()),\n",
    "        ('rf', RandomForestClassifier(class_weight = weights, **params))\n",
    "    ])\n",
    "\n",
    "def RFinterpipe(weights = None, params = {}):\n",
    "    return Pipeline(steps = [\n",
    "        ('scaler', StandardScaler()),\n",
    "        ('inter', PolynomialFeatures(2, interaction_only = True, include_bias = False)),\n",
    "        ('rf', RandomForestClassifier(class_weight = weights, **params))\n",
    "    ])\n",
    "\n",
    "def Logitpipe(weights = None, params = {}):\n",
    "    return Pipeline(steps = [\n",
    "        ('scaler', StandardScaler()),\n",
    "        ('logit', LogisticRegression(class_weight = weights, **params))\n",
    "    ])\n",
    "\n",
    "def train_test(func, X, y, weight, down_sample, class_labels = ['W', 'D', 'L'], cm = False, seed = None, return_clf = False):\n",
    "    if seed != None:\n",
    "        np.random.seed(seed)\n",
    "    X_ds, y_ds, weights = transform_target(X, y, class_labels = class_labels, weight = weight, down_sample = down_sample)\n",
    "    X_train, X_test, y_train, y_test = train_test_split(X_ds, y_ds, test_size = 0.2, stratify = y_ds)\n",
    "\n",
    "    print('>>>Preprocess done', weights)\n",
    "\n",
    "    clf = func(weights = weights).fit(X_train, y_train)\n",
    "    print(metric_suite(clf, X_train, y_train, labels = class_labels, cm = cm))\n",
    "    print(metric_suite(clf, X_test, y_test, labels = class_labels, cm = cm))\n",
    "    \n",
    "    if return_clf:\n",
    "        return clf"
   ]
  },
  {
   "cell_type": "code",
   "execution_count": 564,
   "id": "875b64fe",
   "metadata": {},
   "outputs": [
    {
     "data": {
      "text/plain": [
       "\"Xp = X.filter(regex = 'card_color').copy()\\nXp['home_fouls'] = X.filter(regex = 'home_team_foul').sum(axis = 1)\\nXp['away_fouls'] = X.filter(regex = 'away_team_foul').sum(axis = 1)\\nX = Xp\\nX.shape\""
      ]
     },
     "execution_count": 564,
     "metadata": {},
     "output_type": "execute_result"
    }
   ],
   "source": [
    "X = data[data.columns[9:]].drop(\n",
    "    ['result', 'home_elo', 'away_elo'],\n",
    "axis = 1)\n",
    "y = data['result']\n",
    "\n",
    "'''Xp = X.filter(regex = 'card_color').copy()\n",
    "Xp['home_fouls'] = X.filter(regex = 'home_team_foul').sum(axis = 1)\n",
    "Xp['away_fouls'] = X.filter(regex = 'away_team_foul').sum(axis = 1)\n",
    "X = Xp\n",
    "X.shape'''"
   ]
  },
  {
   "cell_type": "markdown",
   "id": "7fbc4bd8",
   "metadata": {},
   "source": [
    "### Random Forest"
   ]
  },
  {
   "cell_type": "code",
   "execution_count": 456,
   "id": "68934e5f",
   "metadata": {},
   "outputs": [
    {
     "name": "stdout",
     "output_type": "stream",
     "text": [
      ">>>Preprocess done None\n",
      "   Class  Accuracy  Precision    Recall        F1  Support\n",
      "0      W  0.995495   0.989552  0.995495  0.992515      666\n",
      "1      D  0.972868   0.996032  0.972868  0.984314      258\n",
      "2      L  0.998544   0.997093  0.998544  0.997818     1374\n",
      "3  Total  0.994778   0.994788  0.994778  0.994765     2298\n",
      "   Class  Accuracy  Precision    Recall        F1  Support\n",
      "0      W  0.269461   0.592105  0.269461  0.370370      167\n",
      "1      D  0.015385   0.142857  0.015385  0.027778       65\n",
      "2      L  0.924198   0.644309  0.924198  0.759281      343\n",
      "3  Total  0.631304   0.572461  0.631304  0.563636      575\n"
     ]
    }
   ],
   "source": [
    "train_test(RFpipe, X, y, weight = False, down_sample = False, cm = False)"
   ]
  },
  {
   "cell_type": "code",
   "execution_count": 457,
   "id": "c37fa84b",
   "metadata": {},
   "outputs": [
    {
     "name": "stdout",
     "output_type": "stream",
     "text": [
      ">>>Preprocess done {'W': 2.061224489795918, 'D': 5.315789473684211, 'L': 1.0}\n",
      "   Class  Accuracy  Precision    Recall        F1  Support\n",
      "0      W  0.992492   0.986567  0.992492  0.989521      666\n",
      "1      D  0.988372   0.984556  0.988372  0.986460      258\n",
      "2      L  0.994905   0.998539  0.994905  0.996719     1374\n",
      "3  Total  0.993473   0.993500  0.993473  0.993481     2298\n",
      "   Class  Accuracy  Precision    Recall        F1  Support\n",
      "0      W  0.263473   0.478261  0.263473  0.339768      167\n",
      "1      D  0.046154   0.333333  0.046154  0.081081       65\n",
      "2      L  0.889213   0.643460  0.889213  0.746634      343\n",
      "3  Total  0.612174   0.560423  0.612174  0.553230      575\n"
     ]
    }
   ],
   "source": [
    "train_test(RFpipe, X, y, weight = True, down_sample = False, cm = False)"
   ]
  },
  {
   "cell_type": "code",
   "execution_count": 458,
   "id": "5648694d",
   "metadata": {},
   "outputs": [
    {
     "name": "stdout",
     "output_type": "stream",
     "text": [
      ">>>Preprocess done {'W': 2.5789473684210527, 'D': 1.0, 'L': 5.315789473684211}\n",
      "   Class  Accuracy  Precision    Recall        F1  Support\n",
      "0      W  1.000000   0.996139  1.000000  0.998066      258\n",
      "1      D  0.988417   0.996109  0.988417  0.992248      259\n",
      "2      L  0.996124   0.992278  0.996124  0.994197      258\n",
      "3  Total  0.994839   0.994844  0.994839  0.994834      775\n",
      "   Class  Accuracy  Precision    Recall        F1  Support\n",
      "0      W  0.492308   0.542373  0.492308  0.516129       65\n",
      "1      D  0.593750   0.703704  0.593750  0.644068       64\n",
      "2      L  0.661538   0.530864  0.661538  0.589041       65\n",
      "3  Total  0.582474   0.591739  0.582474  0.582765      194\n"
     ]
    }
   ],
   "source": [
    "train_test(RFpipe, X, y, weight = True, down_sample = True, cm = False)"
   ]
  },
  {
   "cell_type": "code",
   "execution_count": 459,
   "id": "381c642e",
   "metadata": {},
   "outputs": [
    {
     "name": "stdout",
     "output_type": "stream",
     "text": [
      ">>>Preprocess done None\n",
      "   Class  Accuracy  Precision    Recall        F1  Support\n",
      "0      W  0.995495   0.994003  0.995495  0.994749      666\n",
      "1      L  0.997089   0.997815  0.997089  0.997452     1374\n",
      "2  Total  0.996569   0.996570  0.996569  0.996569     2040\n",
      "   Class  Accuracy  Precision    Recall        F1  Support\n",
      "0      W  0.269461   0.600000  0.269461  0.371901      167\n",
      "1      L  0.912536   0.719540  0.912536  0.804627      343\n",
      "2  Total  0.701961   0.680397  0.701961  0.662931      510\n"
     ]
    }
   ],
   "source": [
    "train_test(RFpipe, X, y, weight = False, down_sample = False, class_labels = ['W', 'L'], cm = False)"
   ]
  },
  {
   "cell_type": "code",
   "execution_count": 460,
   "id": "0eb314bd",
   "metadata": {},
   "outputs": [
    {
     "name": "stdout",
     "output_type": "stream",
     "text": [
      ">>>Preprocess done {'W': 2.061224489795918, 'L': 1.0}\n",
      "   Class  Accuracy  Precision    Recall        F1  Support\n",
      "0      W  0.996997   0.989568  0.996997  0.993269      666\n",
      "1      L  0.997089   0.996364  0.997089  0.996726     1374\n",
      "2  Total  0.994343   0.994145  0.997059  0.995597     2040\n",
      "   Class  Accuracy  Precision    Recall        F1  Support\n",
      "0      W  0.299401   0.500000  0.299401  0.374532      167\n",
      "1      L  0.883382   0.648822  0.883382  0.748148      343\n",
      "2  Total  0.613913   0.600090  0.692157  0.625807      510\n"
     ]
    }
   ],
   "source": [
    "train_test(RFpipe, X, y, weight = True, down_sample = False, class_labels = ['W', 'L'], cm = False)"
   ]
  },
  {
   "cell_type": "code",
   "execution_count": 469,
   "id": "ea4fa0fe",
   "metadata": {},
   "outputs": [
    {
     "name": "stdout",
     "output_type": "stream",
     "text": [
      ">>>Preprocess done {'W': 1.0, 'L': 2.061224489795918}\n",
      "   Class  Accuracy  Precision    Recall        F1  Support\n",
      "0      W  0.995495   0.994003  0.995495  0.994749      666\n",
      "1      L  0.993994   0.995489  0.993994  0.994741      666\n",
      "2  Total  0.994745   0.994746  0.994745  0.994745     1332\n",
      "   Class  Accuracy  Precision    Recall        F1  Support\n",
      "0      W  0.826347   0.802326  0.826347  0.814159      167\n",
      "1      L  0.796407   0.820988  0.796407  0.808511      167\n",
      "2  Total  0.811377   0.811657  0.811377  0.811335      334\n"
     ]
    }
   ],
   "source": [
    "train_test(RFpipe, X, y, weight = True, down_sample = True, class_labels = ['W', 'L'], cm = False)"
   ]
  },
  {
   "cell_type": "code",
   "execution_count": 397,
   "id": "45d3d502",
   "metadata": {},
   "outputs": [
    {
     "name": "stdout",
     "output_type": "stream",
     "text": [
      ">>>Preprocess done {'W': 1.0, 'L': 2.061224489795918}\n"
     ]
    },
    {
     "data": {
      "image/png": "[encoded data removed]",
      "text/plain": [
       "<Figure size 1080x360 with 4 Axes>"
      ]
     },
     "metadata": {
      "needs_background": "light"
     },
     "output_type": "display_data"
    },
    {
     "name": "stdout",
     "output_type": "stream",
     "text": [
      "   Class  Accuracy  Precision    Recall        F1  Support\n",
      "0      W  0.996997   1.000000  0.996997  0.998496      666\n",
      "1      L  1.000000   0.997006  1.000000  0.998501      666\n",
      "2  Total  0.998498   0.998503  0.998498  0.998498     1332\n"
     ]
    },
    {
     "data": {
      "image/png": "[encoded data removed]",
      "text/plain": [
       "<Figure size 1080x360 with 4 Axes>"
      ]
     },
     "metadata": {
      "needs_background": "light"
     },
     "output_type": "display_data"
    },
    {
     "name": "stdout",
     "output_type": "stream",
     "text": [
      "   Class  Accuracy  Precision    Recall        F1  Support\n",
      "0      W  0.808383   0.813253  0.808383  0.810811      167\n",
      "1      L  0.814371   0.809524  0.814371  0.811940      167\n",
      "2  Total  0.811377   0.811388  0.811377  0.811376      334\n"
     ]
    }
   ],
   "source": [
    "train_test(RFpipe, X, y, weight = True, down_sample = True, class_labels = ['W', 'L'], cm = True, seed = 144)"
   ]
  },
  {
   "cell_type": "code",
   "execution_count": 590,
   "id": "b13a884a",
   "metadata": {},
   "outputs": [],
   "source": [
    "grid = {\n",
    "    'rf__max_depth' : list(range(10, 90, 20)) + [None],\n",
    "    'rf__min_samples_leaf' : [2, 5, 10],\n",
    "    'rf__min_samples_split' : [2, 5, 10],\n",
    "    'rf__class_weight' : [weights]\n",
    "}\n",
    "\n",
    "cv = GridSearchCV(RFpipe(weights), grid, cv = 10, return_train_score  = True, n_jobs = -1).fit(X_ds, y_ds)\n",
    "cv_res = pd.DataFrame(cv.cv_results_)"
   ]
  },
  {
   "cell_type": "code",
   "execution_count": 309,
   "id": "786e3373",
   "metadata": {},
   "outputs": [
    {
     "data": {
      "application/vnd.jupyter.widget-view+json": {
       "model_id": "a4fe020b35f84c7189316976ae542243",
       "version_major": 2,
       "version_minor": 0
      },
      "text/plain": [
       "  0%|          | 0/45 [00:00<?, ?it/s]"
      ]
     },
     "metadata": {},
     "output_type": "display_data"
    }
   ],
   "source": [
    "val = [RFpipe(weights).set_params(**param).fit(X_train, y_train).score(X_test, y_test) for param in tqdm(cv_res['params'])]"
   ]
  },
  {
   "cell_type": "code",
   "execution_count": 591,
   "id": "73b08194",
   "metadata": {},
   "outputs": [
    {
     "data": {
      "text/plain": [
       "0.7826671957290239"
      ]
     },
     "execution_count": 591,
     "metadata": {},
     "output_type": "execute_result"
    }
   ],
   "source": [
    "cv.best_score_"
   ]
  },
  {
   "cell_type": "code",
   "execution_count": 594,
   "id": "d81abaeb",
   "metadata": {},
   "outputs": [
    {
     "data": {
      "image/png": "[encoded data removed]",
      "text/plain": [
       "<Figure size 720x360 with 1 Axes>"
      ]
     },
     "metadata": {
      "needs_background": "light"
     },
     "output_type": "display_data"
    }
   ],
   "source": [
    "fig, axs = plt.subplots(figsize = (10,5))\n",
    "plt.plot(cv_res['mean_test_score'], '-o', zorder = 0, color = 'red')\n",
    "plt.plot(val, '-o', zorder = 1, color = 'blue')\n",
    "plt.scatter(37,0.776, marker = 'x', s = 200, c = 'r', zorder = 2)\n",
    "plt.scatter(28,0.7994, marker = 'x', s = 200, c = 'b', zorder = 3)\n",
    "\n",
    "plt.legend(labels = ['cv', 'validation', 'best_cv', 'best_validation'])\n",
    "plt.ylim([0.5, 1])\n",
    "plt.title('Validation and CV Scores')\n",
    "plt.xlabel('Flexibility')\n",
    "plt.ylabel('Accuracy')\n",
    "plt.savefig('CV_valid.png', dpi = 200)\n",
    "plt.show()"
   ]
  },
  {
   "cell_type": "markdown",
   "id": "17db8193",
   "metadata": {},
   "source": [
    "### Logistic Regression"
   ]
  },
  {
   "cell_type": "code",
   "execution_count": 428,
   "id": "45b61337",
   "metadata": {
    "scrolled": true
   },
   "outputs": [
    {
     "name": "stdout",
     "output_type": "stream",
     "text": [
      ">>>Preprocess done None\n",
      "   Class  Accuracy  Precision    Recall        F1  Support\n",
      "0      W  0.385886   0.517103  0.385886  0.441960      666\n",
      "1      D  0.000000   0.000000  0.000000  0.000000      258\n",
      "2      L  0.874818   0.667407  0.874818  0.757165     1374\n",
      "3  Total  0.634900   0.548915  0.634900  0.580805     2298\n",
      "   Class  Accuracy  Precision    Recall        F1  Support\n",
      "0      W  0.425150   0.486301  0.425150  0.453674      167\n",
      "1      D  0.000000   0.000000  0.000000  0.000000       65\n",
      "2      L  0.825073   0.659674  0.825073  0.733161      343\n",
      "3  Total  0.615652   0.534749  0.615652  0.569109      575\n",
      ">>>Preprocess done {'W': 2.061224489795918, 'D': 5.315789473684211, 'L': 1.0}\n",
      "   Class  Accuracy  Precision    Recall        F1  Support\n",
      "0      W  0.557057   0.444311  0.557057  0.494337      666\n",
      "1      D  0.465116   0.176730  0.465116  0.256137      258\n",
      "2      L  0.451237   0.790816  0.451237  0.574606     1374\n",
      "3  Total  0.483464   0.621449  0.483464  0.515588     2298\n",
      "   Class  Accuracy  Precision    Recall        F1  Support\n",
      "0      W  0.520958   0.416268  0.520958  0.462766      167\n",
      "1      D  0.415385   0.151685  0.415385  0.222222       65\n",
      "2      L  0.413994   0.755319  0.413994  0.534840      343\n",
      "3  Total  0.445217   0.588610  0.445217  0.478568      575\n",
      ">>>Preprocess done {'W': 2.5789473684210527, 'D': 1.0, 'L': 5.315789473684211}\n",
      "   Class  Accuracy  Precision    Recall        F1  Support\n",
      "0      W  0.515504   0.568376  0.515504  0.540650      258\n",
      "1      D  0.054054   0.875000  0.054054  0.101818      259\n",
      "2      L  0.899225   0.441905  0.899225  0.592593      258\n",
      "3  Total  0.489032   0.628745  0.489032  0.411287      775\n",
      "   Class  Accuracy  Precision    Recall        F1  Support\n",
      "0      W  0.553846   0.521739  0.553846  0.537313       65\n",
      "1      D  0.015625   0.250000  0.015625  0.029412       64\n",
      "2      L  0.738462   0.396694  0.738462  0.516129       65\n",
      "3  Total  0.438144   0.390197  0.438144  0.362660      194\n"
     ]
    }
   ],
   "source": [
    "train_test(Logitpipe, X, y, weight = False, down_sample = False, cm = False)\n",
    "train_test(Logitpipe, X, y, weight = True, down_sample = False, cm = False)\n",
    "train_test(Logitpipe, X, y, weight = True, down_sample = True, cm = False)"
   ]
  },
  {
   "cell_type": "code",
   "execution_count": 427,
   "id": "9568e5df",
   "metadata": {
    "scrolled": true
   },
   "outputs": [
    {
     "name": "stdout",
     "output_type": "stream",
     "text": [
      ">>>Preprocess done None\n",
      "   Class  Accuracy  Precision    Recall        F1  Support\n",
      "0      W  0.367868   0.610973  0.367868  0.459231      666\n",
      "1      L  0.886463   0.743136  0.886463  0.808497     1374\n",
      "2  Total  0.717157   0.699989  0.717157  0.694472     2040\n",
      "   Class  Accuracy  Precision    Recall        F1  Support\n",
      "0      W  0.323353   0.574468  0.323353  0.413793      167\n",
      "1      L  0.883382   0.728365  0.883382  0.798419      343\n",
      "2  Total  0.700000   0.677972  0.700000  0.672473      510\n",
      ">>>Preprocess done {'W': 2.061224489795918, 'L': 1.0}\n",
      "   Class  Accuracy  Precision    Recall        F1  Support\n",
      "0      W  0.762763   0.412338  0.762763  0.535300      666\n",
      "1      L  0.588064   0.760113  0.588064  0.663110     1374\n",
      "2  Total  0.572672   0.646575  0.645098  0.621384     2040\n",
      "   Class  Accuracy  Precision    Recall        F1  Support\n",
      "0      W  0.694611   0.395904  0.694611  0.504348      167\n",
      "1      L  0.597668   0.726950  0.597668  0.656000      343\n",
      "2  Total  0.558261   0.618549  0.629412  0.606341      510\n",
      ">>>Preprocess done {'W': 1.0, 'L': 2.061224489795918}\n",
      "   Class  Accuracy  Precision    Recall        F1  Support\n",
      "0      W  0.424925   0.773224  0.424925  0.548450      666\n",
      "1      L  0.875375   0.603520  0.875375  0.714461      666\n",
      "2  Total  0.650150   0.688372  0.650150  0.631455     1332\n",
      "   Class  Accuracy  Precision    Recall        F1  Support\n",
      "0      W  0.401198   0.697917  0.401198  0.509506      167\n",
      "1      L  0.826347   0.579832  0.826347  0.681481      167\n",
      "2  Total  0.613772   0.638874  0.613772  0.595494      334\n"
     ]
    }
   ],
   "source": [
    "train_test(Logitpipe, X, y, weight = False, down_sample = False, class_labels = ['W', 'L'], cm = False)\n",
    "train_test(Logitpipe, X, y, weight = True, down_sample = False, class_labels = ['W', 'L'], cm = False)\n",
    "train_test(Logitpipe, X, y, weight = True, down_sample = True, class_labels = ['W', 'L'], cm = False)"
   ]
  },
  {
   "cell_type": "markdown",
   "id": "b17c7410",
   "metadata": {},
   "source": [
    "## Analysis"
   ]
  },
  {
   "cell_type": "code",
   "execution_count": 586,
   "id": "69290af6",
   "metadata": {},
   "outputs": [
    {
     "data": {
      "text/plain": [
       "65"
      ]
     },
     "execution_count": 586,
     "metadata": {},
     "output_type": "execute_result"
    }
   ],
   "source": [
    "np.argmin([tree.tree_.max_depth for tree in clf['rf'].estimators_])"
   ]
  },
  {
   "cell_type": "code",
   "execution_count": 587,
   "id": "2b78f960",
   "metadata": {},
   "outputs": [
    {
     "data": {
      "text/plain": [
       "27"
      ]
     },
     "execution_count": 587,
     "metadata": {},
     "output_type": "execute_result"
    }
   ],
   "source": [
    "clf['rf'].estimators_[65].tree_.max_depth"
   ]
  },
  {
   "cell_type": "code",
   "execution_count": 579,
   "id": "f58eca4d",
   "metadata": {},
   "outputs": [
    {
     "name": "stdout",
     "output_type": "stream",
     "text": [
      ">>>Preprocess done {'W': 1.0, 'L': 2.061224489795918}\n",
      "   Class  Accuracy  Precision    Recall        F1  Support\n",
      "0      W  0.996997   1.000000  0.996997  0.998496      666\n",
      "1      L  1.000000   0.997006  1.000000  0.998501      666\n",
      "2  Total  0.998498   0.998503  0.998498  0.998498     1332\n",
      "   Class  Accuracy  Precision    Recall        F1  Support\n",
      "0      W  0.808383   0.813253  0.808383  0.810811      167\n",
      "1      L  0.814371   0.809524  0.814371  0.811940      167\n",
      "2  Total  0.811377   0.811388  0.811377  0.811376      334\n",
      "home_team_card_color_y\t\t0.038 +/- 0.017\n",
      "home_team_foul_reason_pushing\t\t0.028 +/- 0.013\n",
      "home_team_foul_reason_penalty\t\t0.024 +/- 0.007\n"
     ]
    },
    {
     "data": {
      "image/png": "[encoded data removed]",
      "text/plain": [
       "<Figure size 432x288 with 1 Axes>"
      ]
     },
     "metadata": {
      "needs_background": "light"
     },
     "output_type": "display_data"
    }
   ],
   "source": [
    "clf = train_test(RFpipe, X, y, weight = True, down_sample = True, class_labels = ['W', 'L'], cm = False, seed = 144, return_clf = True)\n",
    "X_ds, y_ds, weights = transform_target(X, y, class_labels = ['W','L'], weight = True, down_sample = True)\n",
    "X_train, X_test, y_train, y_test = train_test_split(X_ds, y_ds, test_size = 0.2, stratify = y_ds)\n",
    "r = permutation_importance(clf, X_test, y_test, n_repeats = 30)\n",
    "\n",
    "qual_idx = []\n",
    "for i in r.importances_mean.argsort()[::-1]:\n",
    "    if r.importances_mean[i] - 2* r.importances_std[i] > 0:\n",
    "        qual_idx += [i]\n",
    "        print(\"{feat}\\t\\t{mean} +/- {std}\".format(\n",
    "            feat = X.columns[i],\n",
    "            mean = np.round(r.importances_mean[i], 3),\n",
    "            std = np.round(r.importances_std[i], 3)\n",
    "        ))\n",
    "\n",
    "plt.barh(X.columns[qual_idx][::-1], r.importances_mean[qual_idx][::-1])\n",
    "plt.title('Permuted Feature Importances for Random Forest')\n",
    "plt.xlabel('Avg Decrease in Score when Shuffled')\n",
    "plt.ylabel('Feature')\n",
    "plt.show()"
   ]
  },
  {
   "cell_type": "code",
   "execution_count": 421,
   "id": "17eea1b8",
   "metadata": {},
   "outputs": [],
   "source": [
    "tree = clf['rf'].estimators_[0].tree_"
   ]
  },
  {
   "cell_type": "code",
   "execution_count": 424,
   "id": "d9dfa200",
   "metadata": {},
   "outputs": [
    {
     "data": {
      "text/plain": [
       "44"
      ]
     },
     "execution_count": 424,
     "metadata": {},
     "output_type": "execute_result"
    }
   ],
   "source": [
    "tree.max_depth"
   ]
  },
  {
   "cell_type": "code",
   "execution_count": 451,
   "id": "bdb3576d",
   "metadata": {},
   "outputs": [],
   "source": [
    "X_ds, y_ds, weights = transform_target(X, y, class_labels = ['W','L'], weight = True, down_sample = True)\n",
    "X_train, X_test, y_train, y_test = train_test_split(X_ds, y_ds, test_size = 0.2, stratify = y_ds)\n",
    "r = permutation_importance(clf, X_test, y_test, n_repeats = 30)"
   ]
  },
  {
   "cell_type": "code",
   "execution_count": 452,
   "id": "4fe6bcbb",
   "metadata": {},
   "outputs": [
    {
     "name": "stdout",
     "output_type": "stream",
     "text": [
      "home_team_card_color_y\t\t0.135 +/- 0.02\n",
      "home_fouls\t\t0.109 +/- 0.024\n",
      "away_team_card_color_y\t\t0.087 +/- 0.023\n",
      "away_fouls\t\t0.082 +/- 0.023\n",
      "away_team_card_color_r\t\t0.031 +/- 0.007\n"
     ]
    }
   ],
   "source": [
    "qual_idx = []\n",
    "for i in r.importances_mean.argsort()[::-1]:\n",
    "    if r.importances_mean[i] - 2* r.importances_std[i] > 0:\n",
    "        qual_idx += [i]\n",
    "        print(\"{feat}\\t\\t{mean} +/- {std}\".format(\n",
    "            feat = X.columns[i],\n",
    "            mean = np.round(r.importances_mean[i], 3),\n",
    "            std = np.round(r.importances_std[i], 3)\n",
    "        ))"
   ]
  },
  {
   "cell_type": "code",
   "execution_count": 453,
   "id": "5014e7a7",
   "metadata": {},
   "outputs": [
    {
     "data": {
      "image/png": "[encoded data removed]",
      "text/plain": [
       "<Figure size 432x288 with 1 Axes>"
      ]
     },
     "metadata": {
      "needs_background": "light"
     },
     "output_type": "display_data"
    }
   ],
   "source": [
    "plt.barh(X.columns[qual_idx][::-1], r.importances_mean[qual_idx][::-1])\n",
    "plt.title('Permuted Feature Importances for Random Forest')\n",
    "plt.xlabel('Avg Decrease in Score when Shuffled')\n",
    "plt.ylabel('Feature')\n",
    "plt.show()"
   ]
  },
  {
   "cell_type": "code",
   "execution_count": 470,
   "id": "ab554971",
   "metadata": {},
   "outputs": [
    {
     "name": "stdout",
     "output_type": "stream",
     "text": [
      ">>>Preprocess done {'W': 1.0, 'L': 2.061224489795918}\n",
      "   Class  Accuracy  Precision    Recall        F1  Support\n",
      "0      W  0.998498   0.995509  0.998498  0.997001      666\n",
      "1      L  0.995495   0.998494  0.995495  0.996992      666\n",
      "2  Total  0.996997   0.997001  0.996997  0.996997     1332\n",
      "   Class  Accuracy  Precision    Recall        F1  Support\n",
      "0      W  0.778443   0.838710  0.778443  0.807453      167\n",
      "1      L  0.850299   0.793296  0.850299  0.820809      167\n",
      "2  Total  0.814371   0.816003  0.814371  0.814131      334\n",
      "home_team_card_color_y\t\t0.048 +/- 0.016\n",
      "home_team_foul_reason_penalty\t\t0.017 +/- 0.007\n",
      "away_team_card_reason_stall_time\t\t0.005 +/- 0.002\n"
     ]
    }
   ],
   "source": [
    "clf = train_test(RFpipe, X, y, weight = True, down_sample = True, class_labels = ['W', 'L'], cm = False, return_clf = True)\n",
    "X_ds, y_ds, weights = transform_target(X, y, class_labels = ['W','L'], weight = True, down_sample = True)\n",
    "X_train, X_test, y_train, y_test = train_test_split(X_ds, y_ds, test_size = 0.2, stratify = y_ds)\n",
    "r = permutation_importance(clf, X_test, y_test, n_repeats = 30)\n",
    "qual_idx = []\n",
    "for i in r.importances_mean.argsort()[::-1]:\n",
    "    if r.importances_mean[i] - 2* r.importances_std[i] > 0:\n",
    "        qual_idx += [i]\n",
    "        print(\"{feat}\\t\\t{mean} +/- {std}\".format(\n",
    "            feat = X.columns[i],\n",
    "            mean = np.round(r.importances_mean[i], 3),\n",
    "            std = np.round(r.importances_std[i], 3)\n",
    "        ))"
   ]
  },
  {
   "cell_type": "code",
   "execution_count": 471,
   "id": "71467724",
   "metadata": {},
   "outputs": [
    {
     "data": {
      "image/png": "[encoded data removed]",
      "text/plain": [
       "<Figure size 432x288 with 1 Axes>"
      ]
     },
     "metadata": {
      "needs_background": "light"
     },
     "output_type": "display_data"
    }
   ],
   "source": [
    "plt.barh(X.columns[qual_idx][::-1], r.importances_mean[qual_idx][::-1])\n",
    "plt.title('Permuted Feature Importances for Random Forest')\n",
    "plt.xlabel('Avg Decrease in Score when Shuffled')\n",
    "plt.ylabel('Feature')\n",
    "plt.show()"
   ]
  },
  {
   "cell_type": "code",
   "execution_count": 532,
   "id": "14bc964d",
   "metadata": {},
   "outputs": [
    {
     "name": "stdout",
     "output_type": "stream",
     "text": [
      ">>>Preprocess done {'W': 1.0, 'L': 2.061224489795918}\n",
      "   Class  Accuracy  Precision    Recall        F1  Support\n",
      "0      W  0.906907   0.951181  0.906907  0.928517      666\n",
      "1      L  0.953453   0.911047  0.953453  0.931768      666\n",
      "2  Total  0.930180   0.931114  0.930180  0.930142     1332\n",
      "   Class  Accuracy  Precision    Recall        F1  Support\n",
      "0      W  0.790419   0.804878  0.790419  0.797583      167\n",
      "1      L  0.808383   0.794118  0.808383  0.801187      167\n",
      "2  Total  0.799401   0.799498  0.799401  0.799385      334\n"
     ]
    }
   ],
   "source": [
    "# Not including every single feature column, polynomial features (interaction)\n",
    "clf = train_test(RFinterpipe, X, y, weight = True, down_sample = True, class_labels = ['W', 'L'], cm = False, return_clf = True, seed = 305)"
   ]
  },
  {
   "cell_type": "code",
   "execution_count": 545,
   "id": "6f300a3d",
   "metadata": {},
   "outputs": [
    {
     "name": "stderr",
     "output_type": "stream",
     "text": [
      "/Users/kayacelebi/Library/Python/3.8/lib/python/site-packages/sklearn/base.py:443: UserWarning: X has feature names, but PolynomialFeatures was fitted without feature names\n",
      "  warnings.warn(\n"
     ]
    },
    {
     "name": "stdout",
     "output_type": "stream",
     "text": [
      "away_team_card_color_r away_fouls\t\t0.016 +/- 0.006\n",
      "away_team_card_color_y2 away_fouls\t\t0.009 +/- 0.003\n",
      "home_team_card_color_r away_fouls\t\t0.006 +/- 0.002\n"
     ]
    }
   ],
   "source": [
    "X_ds, y_ds, weights = transform_target(X, y, class_labels = ['W','L'], weight = True, down_sample = True)\n",
    "X_train, X_test, y_train, y_test = train_test_split(X_ds, y_ds, test_size = 0.2, stratify = y_ds)\n",
    "r = permutation_importance(clf['rf'], clf['inter'].transform(X_test), y_test, n_repeats = 30)\n",
    "qual_idx = []\n",
    "for i in r.importances_mean.argsort()[::-1]:\n",
    "    if r.importances_mean[i] - 2* r.importances_std[i] > 0:\n",
    "        qual_idx += [i]\n",
    "        print(\"{feat}\\t\\t{mean} +/- {std}\".format(\n",
    "            feat = clf['inter'].get_feature_names_out(X.columns)[i],\n",
    "            mean = np.round(r.importances_mean[i], 3),\n",
    "            std = np.round(r.importances_std[i], 3)\n",
    "        ))"
   ]
  },
  {
   "cell_type": "code",
   "execution_count": 555,
   "id": "7f2f996d",
   "metadata": {},
   "outputs": [
    {
     "data": {
      "image/png": "[encoded data removed]",
      "text/plain": [
       "<Figure size 432x288 with 1 Axes>"
      ]
     },
     "metadata": {
      "needs_background": "light"
     },
     "output_type": "display_data"
    }
   ],
   "source": [
    "feat_names = np.array(list(map(lambda x: x.replace(' ', ' * '), clf['inter'].get_feature_names_out(X.columns))))\n",
    "plt.barh(feat_names[qual_idx][::-1], r.importances_mean[qual_idx][::-1]*100)\n",
    "plt.title('Permuted Feature Importances for Random Forest')\n",
    "plt.xlabel('Avg Decrease in Score when Shuffled (%)')\n",
    "plt.ylabel('Feature')\n",
    "plt.show()"
   ]
  },
  {
   "cell_type": "code",
   "execution_count": 531,
   "id": "632748e2",
   "metadata": {},
   "outputs": [
    {
     "data": {
      "application/vnd.jupyter.widget-view+json": {
       "model_id": "26107cc28e0749e4bba7de11adf13aac",
       "version_major": 2,
       "version_minor": 0
      },
      "text/plain": [
       "  0%|          | 0/200 [00:00<?, ?it/s]"
      ]
     },
     "metadata": {},
     "output_type": "display_data"
    },
    {
     "name": "stdout",
     "output_type": "stream",
     "text": [
      "Seed:  305 0.7994011976047904\n"
     ]
    }
   ],
   "source": [
    "# 129, 165, 184, 305\n",
    "for i in tqdm(range(200, 400)):\n",
    "    np.random.seed(i)\n",
    "    X_ds, y_ds, weights = transform_target(X, y, class_labels = ['W', 'L'], weight = True, down_sample = True)\n",
    "    X_train, X_test, y_train, y_test = train_test_split(X_ds, y_ds, test_size = 0.2, stratify = y_ds)\n",
    "\n",
    "    clf = RFinterpipe(weights = weights).fit(X_train, y_train)\n",
    "    score = clf.score(X_test, y_test)\n",
    "    if score > 0.79:\n",
    "        print('Seed: ', i, score)"
   ]
  },
  {
   "cell_type": "code",
   "execution_count": 572,
   "id": "b8305fa1",
   "metadata": {},
   "outputs": [],
   "source": [
    "grid = {\n",
    "    'logit__C' : [0.5, 1, 2, 5, 10, 15, 20],\n",
    "    'logit__multi_class' : ['multinomial']\n",
    "}\n",
    "X_ds, y_ds, weights = transform_target(X, y, class_labels = ['W', 'L'], weight = True, down_sample = True)\n",
    "cv = GridSearchCV(Logitpipe(weights), grid, cv = 10, n_jobs = -1).fit(X_ds, y_ds)\n",
    "cv_res = pd.DataFrame(cv.cv_results_)"
   ]
  },
  {
   "cell_type": "code",
   "execution_count": 575,
   "id": "56ede4da",
   "metadata": {},
   "outputs": [
    {
     "data": {
      "image/png": "[encoded data removed]",
      "text/plain": [
       "<Figure size 432x288 with 1 Axes>"
      ]
     },
     "metadata": {
      "needs_background": "light"
     },
     "output_type": "display_data"
    }
   ],
   "source": [
    "plt.plot(cv_res['mean_test_score'])\n",
    "plt.show()"
   ]
  },
  {
   "cell_type": "code",
   "execution_count": null,
   "id": "dc9dfd9c",
   "metadata": {},
   "outputs": [],
   "source": []
  }
 ],
 "metadata": {
  "kernelspec": {
   "display_name": "Python 3 (ipykernel)",
   "language": "python",
   "name": "python3"
  },
  "language_info": {
   "codemirror_mode": {
    "name": "ipython",
    "version": 3
   },
   "file_extension": ".py",
   "mimetype": "text/x-python",
   "name": "python",
   "nbconvert_exporter": "python",
   "pygments_lexer": "ipython3",
   "version": "3.8.0"
  }
 },
 "nbformat": 4,
 "nbformat_minor": 5
}
