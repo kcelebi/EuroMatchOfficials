{
 "cells": [
  {
   "cell_type": "code",
   "execution_count": 1,
   "id": "3af7c716",
   "metadata": {},
   "outputs": [],
   "source": [
    "import numpy as np\n",
    "import pandas as pd\n",
    "import lxml.etree as etree\n",
    "import sqlite3 as sql\n",
    "from process import *\n",
    "from tqdm.notebook import tqdm\n",
    "import matplotlib.pyplot as plt"
   ]
  },
  {
   "cell_type": "code",
   "execution_count": 8,
   "id": "387ebaf0",
   "metadata": {},
   "outputs": [],
   "source": [
    "from sklearn.linear_model import LogisticRegression\n",
    "from sklearn.model_selection import train_test_split, GridSearchCV\n",
    "from sklearn.metrics import precision_recall_fscore_support, precision_score\n",
    "from sklearn.preprocessing import StandardScaler\n",
    "from sklearn.ensemble import RandomForestClassifier\n",
    "from sklearn.base import BaseEstimator, TransformerMixin\n",
    "from sklearn.pipeline import Pipeline"
   ]
  },
  {
   "cell_type": "code",
   "execution_count": 3,
   "id": "26c4ef59",
   "metadata": {},
   "outputs": [
    {
     "data": {
      "text/html": [
       "<div>\n",
       "<style scoped>\n",
       "    .dataframe tbody tr th:only-of-type {\n",
       "        vertical-align: middle;\n",
       "    }\n",
       "\n",
       "    .dataframe tbody tr th {\n",
       "        vertical-align: top;\n",
       "    }\n",
       "\n",
       "    .dataframe thead th {\n",
       "        text-align: right;\n",
       "    }\n",
       "</style>\n",
       "<table border=\"1\" class=\"dataframe\">\n",
       "  <thead>\n",
       "    <tr style=\"text-align: right;\">\n",
       "      <th></th>\n",
       "      <th>match_api_id</th>\n",
       "      <th>league_id</th>\n",
       "      <th>date</th>\n",
       "      <th>home_team_api_id</th>\n",
       "      <th>home_team_name</th>\n",
       "      <th>away_team_api_id</th>\n",
       "      <th>away_team_name</th>\n",
       "      <th>home_team_goal</th>\n",
       "      <th>away_team_goal</th>\n",
       "      <th>home_team_foul_reason_from_behind</th>\n",
       "      <th>...</th>\n",
       "      <th>away_team_card_reason_pushing</th>\n",
       "      <th>home_team_card_reason_diving</th>\n",
       "      <th>away_team_card_reason_diving</th>\n",
       "      <th>home_team_card_reason_hands</th>\n",
       "      <th>away_team_card_reason_hands</th>\n",
       "      <th>home_team_card_reason_Removing Shirt</th>\n",
       "      <th>away_team_card_reason_Removing Shirt</th>\n",
       "      <th>result</th>\n",
       "      <th>home_elo</th>\n",
       "      <th>away_elo</th>\n",
       "    </tr>\n",
       "  </thead>\n",
       "  <tbody>\n",
       "    <tr>\n",
       "      <th>0</th>\n",
       "      <td>489044</td>\n",
       "      <td>1729</td>\n",
       "      <td>2008-08-16 00:00:00</td>\n",
       "      <td>8472</td>\n",
       "      <td>Sunderland</td>\n",
       "      <td>8650</td>\n",
       "      <td>Liverpool</td>\n",
       "      <td>0</td>\n",
       "      <td>2</td>\n",
       "      <td>2.0</td>\n",
       "      <td>...</td>\n",
       "      <td>0.0</td>\n",
       "      <td>0.0</td>\n",
       "      <td>0.0</td>\n",
       "      <td>0.0</td>\n",
       "      <td>0.0</td>\n",
       "      <td>0.0</td>\n",
       "      <td>0.0</td>\n",
       "      <td>L</td>\n",
       "      <td>1600.0</td>\n",
       "      <td>1600.0</td>\n",
       "    </tr>\n",
       "    <tr>\n",
       "      <th>1</th>\n",
       "      <td>489045</td>\n",
       "      <td>1729</td>\n",
       "      <td>2008-08-16 00:00:00</td>\n",
       "      <td>8654</td>\n",
       "      <td>West Ham United</td>\n",
       "      <td>8528</td>\n",
       "      <td>Wigan Athletic</td>\n",
       "      <td>2</td>\n",
       "      <td>4</td>\n",
       "      <td>0.0</td>\n",
       "      <td>...</td>\n",
       "      <td>0.0</td>\n",
       "      <td>0.0</td>\n",
       "      <td>0.0</td>\n",
       "      <td>0.0</td>\n",
       "      <td>0.0</td>\n",
       "      <td>0.0</td>\n",
       "      <td>0.0</td>\n",
       "      <td>L</td>\n",
       "      <td>1600.0</td>\n",
       "      <td>1600.0</td>\n",
       "    </tr>\n",
       "    <tr>\n",
       "      <th>2</th>\n",
       "      <td>489047</td>\n",
       "      <td>1729</td>\n",
       "      <td>2008-08-16 00:00:00</td>\n",
       "      <td>8668</td>\n",
       "      <td>Everton</td>\n",
       "      <td>8655</td>\n",
       "      <td>Blackburn Rovers</td>\n",
       "      <td>2</td>\n",
       "      <td>12</td>\n",
       "      <td>2.0</td>\n",
       "      <td>...</td>\n",
       "      <td>0.0</td>\n",
       "      <td>0.0</td>\n",
       "      <td>0.0</td>\n",
       "      <td>0.0</td>\n",
       "      <td>0.0</td>\n",
       "      <td>0.0</td>\n",
       "      <td>0.0</td>\n",
       "      <td>L</td>\n",
       "      <td>1600.0</td>\n",
       "      <td>1600.0</td>\n",
       "    </tr>\n",
       "    <tr>\n",
       "      <th>3</th>\n",
       "      <td>489048</td>\n",
       "      <td>1729</td>\n",
       "      <td>2008-08-16 00:00:00</td>\n",
       "      <td>8549</td>\n",
       "      <td>Middlesbrough</td>\n",
       "      <td>8586</td>\n",
       "      <td>Tottenham Hotspur</td>\n",
       "      <td>2</td>\n",
       "      <td>4</td>\n",
       "      <td>0.0</td>\n",
       "      <td>...</td>\n",
       "      <td>0.0</td>\n",
       "      <td>0.0</td>\n",
       "      <td>0.0</td>\n",
       "      <td>0.0</td>\n",
       "      <td>0.0</td>\n",
       "      <td>0.0</td>\n",
       "      <td>0.0</td>\n",
       "      <td>L</td>\n",
       "      <td>1600.0</td>\n",
       "      <td>1600.0</td>\n",
       "    </tr>\n",
       "    <tr>\n",
       "      <th>4</th>\n",
       "      <td>489049</td>\n",
       "      <td>1729</td>\n",
       "      <td>2008-08-16 00:00:00</td>\n",
       "      <td>8559</td>\n",
       "      <td>Bolton Wanderers</td>\n",
       "      <td>10194</td>\n",
       "      <td>Stoke City</td>\n",
       "      <td>3</td>\n",
       "      <td>4</td>\n",
       "      <td>2.0</td>\n",
       "      <td>...</td>\n",
       "      <td>0.0</td>\n",
       "      <td>0.0</td>\n",
       "      <td>0.0</td>\n",
       "      <td>0.0</td>\n",
       "      <td>0.0</td>\n",
       "      <td>0.0</td>\n",
       "      <td>0.0</td>\n",
       "      <td>L</td>\n",
       "      <td>1600.0</td>\n",
       "      <td>1600.0</td>\n",
       "    </tr>\n",
       "  </tbody>\n",
       "</table>\n",
       "<p>5 rows × 70 columns</p>\n",
       "</div>"
      ],
      "text/plain": [
       "   match_api_id  league_id                 date  home_team_api_id  \\\n",
       "0        489044       1729  2008-08-16 00:00:00              8472   \n",
       "1        489045       1729  2008-08-16 00:00:00              8654   \n",
       "2        489047       1729  2008-08-16 00:00:00              8668   \n",
       "3        489048       1729  2008-08-16 00:00:00              8549   \n",
       "4        489049       1729  2008-08-16 00:00:00              8559   \n",
       "\n",
       "     home_team_name  away_team_api_id     away_team_name  home_team_goal  \\\n",
       "0        Sunderland              8650          Liverpool               0   \n",
       "1   West Ham United              8528     Wigan Athletic               2   \n",
       "2           Everton              8655   Blackburn Rovers               2   \n",
       "3     Middlesbrough              8586  Tottenham Hotspur               2   \n",
       "4  Bolton Wanderers             10194         Stoke City               3   \n",
       "\n",
       "   away_team_goal  home_team_foul_reason_from_behind  ...  \\\n",
       "0               2                                2.0  ...   \n",
       "1               4                                0.0  ...   \n",
       "2              12                                2.0  ...   \n",
       "3               4                                0.0  ...   \n",
       "4               4                                2.0  ...   \n",
       "\n",
       "   away_team_card_reason_pushing  home_team_card_reason_diving  \\\n",
       "0                            0.0                           0.0   \n",
       "1                            0.0                           0.0   \n",
       "2                            0.0                           0.0   \n",
       "3                            0.0                           0.0   \n",
       "4                            0.0                           0.0   \n",
       "\n",
       "   away_team_card_reason_diving  home_team_card_reason_hands  \\\n",
       "0                           0.0                          0.0   \n",
       "1                           0.0                          0.0   \n",
       "2                           0.0                          0.0   \n",
       "3                           0.0                          0.0   \n",
       "4                           0.0                          0.0   \n",
       "\n",
       "   away_team_card_reason_hands  home_team_card_reason_Removing Shirt  \\\n",
       "0                          0.0                                   0.0   \n",
       "1                          0.0                                   0.0   \n",
       "2                          0.0                                   0.0   \n",
       "3                          0.0                                   0.0   \n",
       "4                          0.0                                   0.0   \n",
       "\n",
       "   away_team_card_reason_Removing Shirt  result  home_elo  away_elo  \n",
       "0                                   0.0       L    1600.0    1600.0  \n",
       "1                                   0.0       L    1600.0    1600.0  \n",
       "2                                   0.0       L    1600.0    1600.0  \n",
       "3                                   0.0       L    1600.0    1600.0  \n",
       "4                                   0.0       L    1600.0    1600.0  \n",
       "\n",
       "[5 rows x 70 columns]"
      ]
     },
     "execution_count": 3,
     "metadata": {},
     "output_type": "execute_result"
    }
   ],
   "source": [
    "data = pd.read_csv('../data/prem_data_elo.csv', index_col = 'Unnamed: 0')\n",
    "data.head()"
   ]
  },
  {
   "cell_type": "code",
   "execution_count": 38,
   "id": "1b33f0f9",
   "metadata": {},
   "outputs": [],
   "source": [
    "def transform_target(X, y, class_labels = ['W', 'D', 'L'], weight = True):\n",
    "    if weight:\n",
    "        size = np.min(np.unique(pd.concat([y[y == x] for x in class_labels]), return_counts = True)[1])\n",
    "        idx = [np.random.choice(y[y == x].index.values, size = size) for x in class_labels]\n",
    "        down_idx = np.concatenate(idx)\n",
    "        weights = {}\n",
    "        for i, class_ in enumerate(class_labels):\n",
    "            weights[class_] = y[y == class_].shape[0]/len(idx[i])\n",
    "\n",
    "        return X.iloc[down_idx], y[down_idx], weights\n",
    "    else:\n",
    "        y_ = pd.concat([y[y == x] for x in class_labels])\n",
    "        return X.iloc[y_.index], y_, None\n",
    "\n",
    "RFpipe = Pipeline(steps = [\n",
    "    ('scaler', StandardScaler()),\n",
    "    ('rf', RandomForestClassifier())\n",
    "])\n",
    "Logitpipe = Pipeline(steps = [\n",
    "    ('scaler', StandardScaler()),\n",
    "    ('logit', LogisticRegression())\n",
    "])"
   ]
  },
  {
   "cell_type": "code",
   "execution_count": 29,
   "id": "875b64fe",
   "metadata": {},
   "outputs": [],
   "source": [
    "X = data[data.columns[9:]].drop(\n",
    "    ['result', 'home_elo', 'away_elo'],\n",
    "axis = 1)\n",
    "y = data['result']"
   ]
  },
  {
   "cell_type": "code",
   "execution_count": 60,
   "id": "569146a9",
   "metadata": {},
   "outputs": [
    {
     "name": "stdout",
     "output_type": "stream",
     "text": [
      ">>>Preprocess done None\n",
      "0.9947780678851175\n",
      "0.6104347826086957\n"
     ]
    }
   ],
   "source": [
    "X_ds, y_ds, weights = transform_target(X, y, weight = False)\n",
    "X_train, X_test, y_train, y_test = train_test_split(X_ds, y_ds, test_size = 0.2, stratify = y_ds)\n",
    "\n",
    "print('>>>Preprocess done', weights)\n",
    "\n",
    "clf = RFpipe.set_params(rf__class_weight = weights)\n",
    "clf = clf.fit(X_train, y_train)\n",
    "print(clf.score(X_train, y_train))\n",
    "print(clf.score(X_test, y_test))"
   ]
  },
  {
   "cell_type": "code",
   "execution_count": 62,
   "id": "b6aef275",
   "metadata": {},
   "outputs": [
    {
     "name": "stdout",
     "output_type": "stream",
     "text": [
      ">>>Preprocess done {'W': 2.5789473684210527, 'D': 1.0, 'L': 5.315789473684211}\n",
      "1.0\n",
      "0.634020618556701\n"
     ]
    }
   ],
   "source": [
    "X_ds, y_ds, weights = transform_target(X, y, weight = True)\n",
    "X_train, X_test, y_train, y_test = train_test_split(X_ds, y_ds, test_size = 0.2, stratify = y_ds)\n",
    "\n",
    "print('>>>Preprocess done', weights)\n",
    "\n",
    "clf = RFpipe.set_params(rf__class_weight = weights)\n",
    "clf = clf.fit(X_train, y_train)\n",
    "print(clf.score(X_train, y_train))\n",
    "print(clf.score(X_test, y_test))"
   ]
  },
  {
   "cell_type": "code",
   "execution_count": 79,
   "id": "b13a884a",
   "metadata": {},
   "outputs": [],
   "source": [
    "grid = {\n",
    "    'rf__max_depth' : [10, 20, 30, 40, 50, None],\n",
    "    'rf__min_samples_split' : [2, 5, 10, 15, 20],\n",
    "    'rf__min_samples_leaf' : [2, 5, 10, 15, 20],\n",
    "    'rf__min_impurity_decrease' : [0, 0.5, 1, 2, 5, 10]\n",
    "}\n",
    "cv = GridSearchCV(RFpipe, grid, cv = 10, return_train_score  = True, n_jobs = -1).fit(X_ds, y_ds)"
   ]
  },
  {
   "cell_type": "code",
   "execution_count": 82,
   "id": "fbaa3f5a",
   "metadata": {},
   "outputs": [],
   "source": [
    "cv_res = pd.DataFrame(cv.cv_results_)"
   ]
  },
  {
   "cell_type": "code",
   "execution_count": 80,
   "id": "786e3373",
   "metadata": {},
   "outputs": [
    {
     "data": {
      "application/vnd.jupyter.widget-view+json": {
       "model_id": "86e81bb491944742b5d68e3ce2267337",
       "version_major": 2,
       "version_minor": 0
      },
      "text/plain": [
       "  0%|          | 0/900 [00:00<?, ?it/s]"
      ]
     },
     "metadata": {},
     "output_type": "display_data"
    }
   ],
   "source": [
    "val = [RFpipe.set_params(**param).fit(X_train, y_train).score(X_test, y_test) for param in tqdm(cv.cv_results_['params'])]"
   ]
  },
  {
   "cell_type": "code",
   "execution_count": 81,
   "id": "d81abaeb",
   "metadata": {},
   "outputs": [
    {
     "data": {
      "image/png": "[encoded data removed]",
      "text/plain": [
       "<Figure size 432x288 with 1 Axes>"
      ]
     },
     "metadata": {
      "needs_background": "light"
     },
     "output_type": "display_data"
    }
   ],
   "source": [
    "plt.plot(pd.DataFrame(cv.cv_results_)['mean_test_score'])\n",
    "plt.plot(val)\n",
    "plt.legend(labels = ['cv', 'validation'])\n",
    "plt.show()"
   ]
  },
  {
   "cell_type": "code",
   "execution_count": null,
   "id": "38fdf6bf",
   "metadata": {},
   "outputs": [],
   "source": []
  }
 ],
 "metadata": {
  "kernelspec": {
   "display_name": "Python 3 (ipykernel)",
   "language": "python",
   "name": "python3"
  },
  "language_info": {
   "codemirror_mode": {
    "name": "ipython",
    "version": 3
   },
   "file_extension": ".py",
   "mimetype": "text/x-python",
   "name": "python",
   "nbconvert_exporter": "python",
   "pygments_lexer": "ipython3",
   "version": "3.8.0"
  }
 },
 "nbformat": 4,
 "nbformat_minor": 5
}
