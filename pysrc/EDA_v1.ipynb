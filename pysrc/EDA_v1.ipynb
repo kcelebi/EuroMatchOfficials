{
 "cells": [
  {
   "cell_type": "code",
   "execution_count": 1,
   "id": "b45513bc",
   "metadata": {},
   "outputs": [],
   "source": [
    "import numpy as np\n",
    "import pandas as pd\n",
    "import lxml.etree as etree\n",
    "import sqlite3 as sql\n",
    "from process import DB\n",
    "from tqdm.notebook import tqdm\n",
    "import matplotlib.pyplot as plt"
   ]
  },
  {
   "cell_type": "code",
   "execution_count": 2,
   "id": "5c28dc37",
   "metadata": {},
   "outputs": [],
   "source": [
    "db = DB(db_route = '../data/database.sqlite')"
   ]
  },
  {
   "cell_type": "code",
   "execution_count": 3,
   "id": "e34c56a5",
   "metadata": {},
   "outputs": [
    {
     "data": {
      "application/vnd.jupyter.widget-view+json": {
       "model_id": "42f006761e7d421992592b5729df3278",
       "version_major": 2,
       "version_minor": 0
      },
      "text/plain": [
       "Stacking Cards:   0%|          | 0/14217 [00:00<?, ?it/s]"
      ]
     },
     "metadata": {},
     "output_type": "display_data"
    },
    {
     "data": {
      "application/vnd.jupyter.widget-view+json": {
       "model_id": "85f5bbadd04c49789d0088bd2b8edf3c",
       "version_major": 2,
       "version_minor": 0
      },
      "text/plain": [
       "Stacking Fouls:   0%|          | 0/14217 [00:00<?, ?it/s]"
      ]
     },
     "metadata": {},
     "output_type": "display_data"
    }
   ],
   "source": [
    "df = db.stackFoulCardDF()"
   ]
  },
  {
   "cell_type": "code",
   "execution_count": 7,
   "id": "dc389463",
   "metadata": {},
   "outputs": [],
   "source": [
    "# prem is 1729\n",
    "#pd.merge(df, db.league[['id','name']], how = 'left', left_on = 'league_id', right_on = 'id')\n",
    "#df.to_csv('../data/dummy_card_foul.csv')"
   ]
  },
  {
   "cell_type": "code",
   "execution_count": 70,
   "id": "5ea5a335",
   "metadata": {},
   "outputs": [],
   "source": [
    "df = pd.read_csv('../data/dummy_card_foul.csv', index_col = 'Unnamed: 0')"
   ]
  },
  {
   "cell_type": "code",
   "execution_count": 71,
   "id": "444f3a1b",
   "metadata": {},
   "outputs": [],
   "source": [
    "df = df[df['league_id'] == 1729].sort_values(by = 'date')"
   ]
  },
  {
   "cell_type": "code",
   "execution_count": 72,
   "id": "4f5d77a9",
   "metadata": {},
   "outputs": [
    {
     "data": {
      "application/vnd.jupyter.widget-view+json": {
       "model_id": "9e9d54649bfe4497899e3a988a92da73",
       "version_major": 2,
       "version_minor": 0
      },
      "text/plain": [
       "  0%|          | 0/13 [00:00<?, ?it/s]"
      ]
     },
     "metadata": {},
     "output_type": "display_data"
    }
   ],
   "source": [
    "foul_columns = df.filter(regex = 'foul*').columns[2:]\n",
    "for col in tqdm(foul_columns):\n",
    "    df['home_team_%s' % col]  = df[df['fouling_team'] == df['home_team_api_id']][col]\n",
    "    df['home_team_%s' % col] = df['home_team_%s' % col].fillna(0)\n",
    "    df['away_team_%s' % col]  = df[df['fouling_team'] == df['away_team_api_id']][col].fillna(0)\n",
    "    df['away_team_%s' % col] = df['away_team_%s' % col].fillna(0)"
   ]
  },
  {
   "cell_type": "code",
   "execution_count": 73,
   "id": "4c9dd987",
   "metadata": {},
   "outputs": [
    {
     "data": {
      "application/vnd.jupyter.widget-view+json": {
       "model_id": "2fff1d3ffa2b4f5fa5d8980a791ee1a1",
       "version_major": 2,
       "version_minor": 0
      },
      "text/plain": [
       "  0%|          | 0/16 [00:00<?, ?it/s]"
      ]
     },
     "metadata": {},
     "output_type": "display_data"
    }
   ],
   "source": [
    "card_columns = df.filter(regex = 'card').columns[1:]\n",
    "for col in tqdm(card_columns):\n",
    "    df['home_team_%s' % col] = df[df['carded_team'] == df['home_team_api_id']][col]\n",
    "    df['home_team_%s' % col] = df['home_team_%s' % col].fillna(0)\n",
    "    df['away_team_%s' % col] = df[df['carded_team'] == df['away_team_api_id']][col]\n",
    "    df['away_team_%s' % col] = df['away_team_%s' % col].fillna(0)"
   ]
  },
  {
   "cell_type": "code",
   "execution_count": 74,
   "id": "e69f1252",
   "metadata": {},
   "outputs": [],
   "source": [
    "group_columns = list(df.columns[:8])\n",
    "prep = df.drop(['carded_team', 'fouling_team'], axis = 1).groupby(by = group_columns, as_index = False).sum()"
   ]
  },
  {
   "cell_type": "code",
   "execution_count": 75,
   "id": "48159ce5",
   "metadata": {},
   "outputs": [],
   "source": [
    "prep['result'] = 0"
   ]
  },
  {
   "cell_type": "code",
   "execution_count": 76,
   "id": "1b41de46",
   "metadata": {},
   "outputs": [
    {
     "name": "stderr",
     "output_type": "stream",
     "text": [
      "/var/folders/cc/c6pxrx8n6wx77yf6_g8dvdw40000gn/T/ipykernel_12567/4203361254.py:1: SettingWithCopyWarning: \n",
      "A value is trying to be set on a copy of a slice from a DataFrame\n",
      "\n",
      "See the caveats in the documentation: https://pandas.pydata.org/pandas-docs/stable/user_guide/indexing.html#returning-a-view-versus-a-copy\n",
      "  prep['result'][prep['home_team_goal'] > prep['away_team_goal']] = 'W'\n",
      "/var/folders/cc/c6pxrx8n6wx77yf6_g8dvdw40000gn/T/ipykernel_12567/4203361254.py:2: SettingWithCopyWarning: \n",
      "A value is trying to be set on a copy of a slice from a DataFrame\n",
      "\n",
      "See the caveats in the documentation: https://pandas.pydata.org/pandas-docs/stable/user_guide/indexing.html#returning-a-view-versus-a-copy\n",
      "  prep['result'][prep['home_team_goal'] < prep['away_team_goal']] = 'L'\n",
      "/var/folders/cc/c6pxrx8n6wx77yf6_g8dvdw40000gn/T/ipykernel_12567/4203361254.py:3: SettingWithCopyWarning: \n",
      "A value is trying to be set on a copy of a slice from a DataFrame\n",
      "\n",
      "See the caveats in the documentation: https://pandas.pydata.org/pandas-docs/stable/user_guide/indexing.html#returning-a-view-versus-a-copy\n",
      "  prep['result'][prep['home_team_goal'] == prep['away_team_goal']] = 'D'\n"
     ]
    },
    {
     "data": {
      "text/plain": [
       "0       L\n",
       "1       L\n",
       "2       L\n",
       "3       D\n",
       "4       L\n",
       "       ..\n",
       "2868    L\n",
       "2869    L\n",
       "2870    L\n",
       "2871    L\n",
       "2872    L\n",
       "Name: result, Length: 2873, dtype: object"
      ]
     },
     "execution_count": 76,
     "metadata": {},
     "output_type": "execute_result"
    }
   ],
   "source": [
    "prep['result'][prep['home_team_goal'] > prep['away_team_goal']] = 'W'\n",
    "prep['result'][prep['home_team_goal'] < prep['away_team_goal']] = 'L'\n",
    "prep['result'][prep['home_team_goal'] == prep['away_team_goal']] = 'D'\n",
    "prep['result']"
   ]
  },
  {
   "cell_type": "code",
   "execution_count": 77,
   "id": "6abf046d",
   "metadata": {},
   "outputs": [],
   "source": [
    "prep = prep.drop(foul_columns, axis = 1).drop(card_columns, axis = 1).sort_values(by = 'date')#.to_csv('../data/prep_data.csv')"
   ]
  },
  {
   "cell_type": "code",
   "execution_count": 102,
   "id": "f984d779",
   "metadata": {},
   "outputs": [],
   "source": [
    "cols = np.array(list(prep.columns))\n",
    "def index_of(col):\n",
    "    return np.where(np.array(cols) == col)[0][0]\n",
    "\n",
    "def updateElo(df, verbose = True):\n",
    "    elo_all = {'match_api_id' : [], 'home_team_api_id' : [], 'away_team_api_id' : [], 'home_elo' : [], 'away_elo' : []}\n",
    "    elo = {}\n",
    "    for i in range(df.shape[0]):\n",
    "        row = df.iloc[i]\n",
    "        home = row[index_of('home_team_api_id')]\n",
    "        away = row[index_of('away_team_api_id')]\n",
    "        if home not in elo:\n",
    "            elo[home] = 1600\n",
    "        if away not in elo:\n",
    "            elo[away] = 1600\n",
    "        \n",
    "        elo_all['match_api_id'] += [row[index_of('match_api_id')]] \n",
    "        elo_all['home_team_api_id'] += [home]\n",
    "        elo_all['away_team_api_id'] += [away]\n",
    "        elo_all['home_elo'] += [elo[home]]\n",
    "        elo_all['away_elo'] += [elo[away]]\n",
    "        \n",
    "        R1 = 10**(elo[home]/400)\n",
    "        R2 = 10**(elo[away]/400)\n",
    "        E1 = R1 / (R1 + R2)\n",
    "        E2 = R2 / (R1 + R2)\n",
    "        \n",
    "        result = row[index_of('result')]\n",
    "        S1 = 1 if result == 'W' else (0 if result == 'L' else 0.5)\n",
    "        S2 = 0 if result == 'W' else (1 if result == 'L' else 0.5)\n",
    "        \n",
    "        K1 = None\n",
    "        if i < 30:\n",
    "            K1 = 40\n",
    "        elif elo[home] < 2300:\n",
    "            K1 = 20\n",
    "        elif elo[home] > 2300:\n",
    "            K1 = 10\n",
    "        \n",
    "        K2 = None\n",
    "        if i < 30:\n",
    "            K2 = 40\n",
    "        elif elo[away] < 2300:\n",
    "            K2 = 20\n",
    "        elif elo[away] > 2300:\n",
    "            K2 = 10\n",
    "        \n",
    "        R1_new = np.round(elo[home] + K1 * (S1 - E1), 3)\n",
    "        R2_new = np.round(elo[away] + K2 * (S2 - E2), 3)\n",
    "        \n",
    "        elo[home] = R1_new\n",
    "        elo[away] = R2_new\n",
    "        \n",
    "        if verbose:\n",
    "            print(\"\\t{home} vs {away} = {result}\\nHome: {R1} --> {R1n} | K = {K1}\\nAway: {R2} --> {R2n} | K = {K2}\\n\".format(\n",
    "                home = row[index_of('home_team_name')],\n",
    "                away = row[index_of('away_team_name')],\n",
    "                result = result,\n",
    "                R1 = elo[home],\n",
    "                R1n = R1_new,\n",
    "                K1 = K1,\n",
    "                R2 = elo[away],\n",
    "                R2n = R2_new,\n",
    "                K2 = K2\n",
    "            ))\n",
    "            print('-------------------')\n",
    "    return elo, elo_all\n",
    "        "
   ]
  },
  {
   "cell_type": "code",
   "execution_count": 103,
   "id": "e4615cc3",
   "metadata": {},
   "outputs": [],
   "source": [
    "elo, elo_all = updateElo(prem, verbose = False)"
   ]
  },
  {
   "cell_type": "code",
   "execution_count": 100,
   "id": "9c066420",
   "metadata": {},
   "outputs": [],
   "source": [
    "prem = prep[prep['league_id'] == 1729]"
   ]
  },
  {
   "cell_type": "code",
   "execution_count": 106,
   "id": "59827dfe",
   "metadata": {},
   "outputs": [],
   "source": [
    "#elo_all = pd.DataFrame(elo_all)\n",
    "prem = pd.merge(prem, pd.DataFrame(elo_all), on = 'match_api_id')"
   ]
  },
  {
   "cell_type": "code",
   "execution_count": 107,
   "id": "33c916df",
   "metadata": {},
   "outputs": [],
   "source": [
    "prem.to_csv('../data/prem_data_elo.csv')"
   ]
  },
  {
   "cell_type": "code",
   "execution_count": 36,
   "id": "898536d5",
   "metadata": {},
   "outputs": [
    {
     "data": {
      "image/png": "[encoded data removed]",
      "text/plain": [
       "<Figure size 432x288 with 1 Axes>"
      ]
     },
     "metadata": {
      "needs_background": "light"
     },
     "output_type": "display_data"
    }
   ],
   "source": [
    "plt.hist(df['card_color_y'], alpha = 0.5, color = 'orange')\n",
    "plt.hist(df['card_color_y2'], alpha = 0.5, color = 'blue')\n",
    "plt.hist(df['card_color_r'], alpha = 0.5, color= 'red')\n",
    "\n",
    "plt.legend(labels = ['y', 'y2', 'r'])\n",
    "plt.xticks(range(10))\n",
    "plt.yticks(np.linspace(0, 29560, 6), np.round(np.linspace(0, 1, 6), 2))\n",
    "plt.show()"
   ]
  }
 ],
 "metadata": {
  "kernelspec": {
   "display_name": "Python 3 (ipykernel)",
   "language": "python",
   "name": "python3"
  },
  "language_info": {
   "codemirror_mode": {
    "name": "ipython",
    "version": 3
   },
   "file_extension": ".py",
   "mimetype": "text/x-python",
   "name": "python",
   "nbconvert_exporter": "python",
   "pygments_lexer": "ipython3",
   "version": "3.8.0"
  }
 },
 "nbformat": 4,
 "nbformat_minor": 5
}
