{
 "cells": [
  {
   "cell_type": "code",
   "execution_count": 1,
   "id": "09eda13f",
   "metadata": {},
   "outputs": [],
   "source": [
    "import numpy as np\n",
    "import pandas as pd\n",
    "import lxml.etree as etree\n",
    "import sqlite3 as sql\n",
    "from process import *\n",
    "from tqdm.notebook import tqdm\n",
    "import matplotlib.pyplot as plt"
   ]
  },
  {
   "cell_type": "code",
   "execution_count": 2,
   "id": "2cb6339d",
   "metadata": {},
   "outputs": [],
   "source": [
    "from sklearn.linear_model import LogisticRegression\n",
    "from sklearn.model_selection import train_test_split, GridSearchCV\n",
    "from sklearn.metrics import precision_recall_fscore_support, precision_score\n",
    "from sklearn.preprocessing import StandardScaler\n",
    "from sklearn.ensemble import RandomForestClassifier"
   ]
  },
  {
   "cell_type": "code",
   "execution_count": 3,
   "id": "d630e02f",
   "metadata": {},
   "outputs": [
    {
     "data": {
      "text/html": [
       "<div>\n",
       "<style scoped>\n",
       "    .dataframe tbody tr th:only-of-type {\n",
       "        vertical-align: middle;\n",
       "    }\n",
       "\n",
       "    .dataframe tbody tr th {\n",
       "        vertical-align: top;\n",
       "    }\n",
       "\n",
       "    .dataframe thead th {\n",
       "        text-align: right;\n",
       "    }\n",
       "</style>\n",
       "<table border=\"1\" class=\"dataframe\">\n",
       "  <thead>\n",
       "    <tr style=\"text-align: right;\">\n",
       "      <th></th>\n",
       "      <th>match_api_id</th>\n",
       "      <th>league_id</th>\n",
       "      <th>date</th>\n",
       "      <th>home_team_api_id</th>\n",
       "      <th>home_team_name</th>\n",
       "      <th>away_team_api_id</th>\n",
       "      <th>away_team_name</th>\n",
       "      <th>home_team_goal</th>\n",
       "      <th>away_team_goal</th>\n",
       "      <th>home_team_foul_reason_from_behind</th>\n",
       "      <th>...</th>\n",
       "      <th>away_team_card_reason_pushing</th>\n",
       "      <th>home_team_card_reason_diving</th>\n",
       "      <th>away_team_card_reason_diving</th>\n",
       "      <th>home_team_card_reason_hands</th>\n",
       "      <th>away_team_card_reason_hands</th>\n",
       "      <th>home_team_card_reason_Removing Shirt</th>\n",
       "      <th>away_team_card_reason_Removing Shirt</th>\n",
       "      <th>result</th>\n",
       "      <th>home_elo</th>\n",
       "      <th>away_elo</th>\n",
       "    </tr>\n",
       "  </thead>\n",
       "  <tbody>\n",
       "    <tr>\n",
       "      <th>0</th>\n",
       "      <td>489044</td>\n",
       "      <td>1729</td>\n",
       "      <td>2008-08-16 00:00:00</td>\n",
       "      <td>8472</td>\n",
       "      <td>Sunderland</td>\n",
       "      <td>8650</td>\n",
       "      <td>Liverpool</td>\n",
       "      <td>0</td>\n",
       "      <td>2</td>\n",
       "      <td>2.0</td>\n",
       "      <td>...</td>\n",
       "      <td>0.0</td>\n",
       "      <td>0.0</td>\n",
       "      <td>0.0</td>\n",
       "      <td>0.0</td>\n",
       "      <td>0.0</td>\n",
       "      <td>0.0</td>\n",
       "      <td>0.0</td>\n",
       "      <td>L</td>\n",
       "      <td>1600.0</td>\n",
       "      <td>1600.0</td>\n",
       "    </tr>\n",
       "    <tr>\n",
       "      <th>1</th>\n",
       "      <td>489045</td>\n",
       "      <td>1729</td>\n",
       "      <td>2008-08-16 00:00:00</td>\n",
       "      <td>8654</td>\n",
       "      <td>West Ham United</td>\n",
       "      <td>8528</td>\n",
       "      <td>Wigan Athletic</td>\n",
       "      <td>2</td>\n",
       "      <td>4</td>\n",
       "      <td>0.0</td>\n",
       "      <td>...</td>\n",
       "      <td>0.0</td>\n",
       "      <td>0.0</td>\n",
       "      <td>0.0</td>\n",
       "      <td>0.0</td>\n",
       "      <td>0.0</td>\n",
       "      <td>0.0</td>\n",
       "      <td>0.0</td>\n",
       "      <td>L</td>\n",
       "      <td>1600.0</td>\n",
       "      <td>1600.0</td>\n",
       "    </tr>\n",
       "    <tr>\n",
       "      <th>2</th>\n",
       "      <td>489047</td>\n",
       "      <td>1729</td>\n",
       "      <td>2008-08-16 00:00:00</td>\n",
       "      <td>8668</td>\n",
       "      <td>Everton</td>\n",
       "      <td>8655</td>\n",
       "      <td>Blackburn Rovers</td>\n",
       "      <td>2</td>\n",
       "      <td>12</td>\n",
       "      <td>2.0</td>\n",
       "      <td>...</td>\n",
       "      <td>0.0</td>\n",
       "      <td>0.0</td>\n",
       "      <td>0.0</td>\n",
       "      <td>0.0</td>\n",
       "      <td>0.0</td>\n",
       "      <td>0.0</td>\n",
       "      <td>0.0</td>\n",
       "      <td>L</td>\n",
       "      <td>1600.0</td>\n",
       "      <td>1600.0</td>\n",
       "    </tr>\n",
       "    <tr>\n",
       "      <th>3</th>\n",
       "      <td>489048</td>\n",
       "      <td>1729</td>\n",
       "      <td>2008-08-16 00:00:00</td>\n",
       "      <td>8549</td>\n",
       "      <td>Middlesbrough</td>\n",
       "      <td>8586</td>\n",
       "      <td>Tottenham Hotspur</td>\n",
       "      <td>2</td>\n",
       "      <td>4</td>\n",
       "      <td>0.0</td>\n",
       "      <td>...</td>\n",
       "      <td>0.0</td>\n",
       "      <td>0.0</td>\n",
       "      <td>0.0</td>\n",
       "      <td>0.0</td>\n",
       "      <td>0.0</td>\n",
       "      <td>0.0</td>\n",
       "      <td>0.0</td>\n",
       "      <td>L</td>\n",
       "      <td>1600.0</td>\n",
       "      <td>1600.0</td>\n",
       "    </tr>\n",
       "    <tr>\n",
       "      <th>4</th>\n",
       "      <td>489049</td>\n",
       "      <td>1729</td>\n",
       "      <td>2008-08-16 00:00:00</td>\n",
       "      <td>8559</td>\n",
       "      <td>Bolton Wanderers</td>\n",
       "      <td>10194</td>\n",
       "      <td>Stoke City</td>\n",
       "      <td>3</td>\n",
       "      <td>4</td>\n",
       "      <td>2.0</td>\n",
       "      <td>...</td>\n",
       "      <td>0.0</td>\n",
       "      <td>0.0</td>\n",
       "      <td>0.0</td>\n",
       "      <td>0.0</td>\n",
       "      <td>0.0</td>\n",
       "      <td>0.0</td>\n",
       "      <td>0.0</td>\n",
       "      <td>L</td>\n",
       "      <td>1600.0</td>\n",
       "      <td>1600.0</td>\n",
       "    </tr>\n",
       "  </tbody>\n",
       "</table>\n",
       "<p>5 rows × 70 columns</p>\n",
       "</div>"
      ],
      "text/plain": [
       "   match_api_id  league_id                 date  home_team_api_id  \\\n",
       "0        489044       1729  2008-08-16 00:00:00              8472   \n",
       "1        489045       1729  2008-08-16 00:00:00              8654   \n",
       "2        489047       1729  2008-08-16 00:00:00              8668   \n",
       "3        489048       1729  2008-08-16 00:00:00              8549   \n",
       "4        489049       1729  2008-08-16 00:00:00              8559   \n",
       "\n",
       "     home_team_name  away_team_api_id     away_team_name  home_team_goal  \\\n",
       "0        Sunderland              8650          Liverpool               0   \n",
       "1   West Ham United              8528     Wigan Athletic               2   \n",
       "2           Everton              8655   Blackburn Rovers               2   \n",
       "3     Middlesbrough              8586  Tottenham Hotspur               2   \n",
       "4  Bolton Wanderers             10194         Stoke City               3   \n",
       "\n",
       "   away_team_goal  home_team_foul_reason_from_behind  ...  \\\n",
       "0               2                                2.0  ...   \n",
       "1               4                                0.0  ...   \n",
       "2              12                                2.0  ...   \n",
       "3               4                                0.0  ...   \n",
       "4               4                                2.0  ...   \n",
       "\n",
       "   away_team_card_reason_pushing  home_team_card_reason_diving  \\\n",
       "0                            0.0                           0.0   \n",
       "1                            0.0                           0.0   \n",
       "2                            0.0                           0.0   \n",
       "3                            0.0                           0.0   \n",
       "4                            0.0                           0.0   \n",
       "\n",
       "   away_team_card_reason_diving  home_team_card_reason_hands  \\\n",
       "0                           0.0                          0.0   \n",
       "1                           0.0                          0.0   \n",
       "2                           0.0                          0.0   \n",
       "3                           0.0                          0.0   \n",
       "4                           0.0                          0.0   \n",
       "\n",
       "   away_team_card_reason_hands  home_team_card_reason_Removing Shirt  \\\n",
       "0                          0.0                                   0.0   \n",
       "1                          0.0                                   0.0   \n",
       "2                          0.0                                   0.0   \n",
       "3                          0.0                                   0.0   \n",
       "4                          0.0                                   0.0   \n",
       "\n",
       "   away_team_card_reason_Removing Shirt  result  home_elo  away_elo  \n",
       "0                                   0.0       L    1600.0    1600.0  \n",
       "1                                   0.0       L    1600.0    1600.0  \n",
       "2                                   0.0       L    1600.0    1600.0  \n",
       "3                                   0.0       L    1600.0    1600.0  \n",
       "4                                   0.0       L    1600.0    1600.0  \n",
       "\n",
       "[5 rows x 70 columns]"
      ]
     },
     "execution_count": 3,
     "metadata": {},
     "output_type": "execute_result"
    }
   ],
   "source": [
    "data = pd.read_csv('../data/prem_data_elo.csv', index_col = 'Unnamed: 0')\n",
    "data.head()"
   ]
  },
  {
   "cell_type": "code",
   "execution_count": 29,
   "id": "f6e45a03",
   "metadata": {},
   "outputs": [],
   "source": [
    "X = data[data.columns[9:]].drop(\n",
    "    ['result', 'home_elo', 'away_elo'],\n",
    "axis = 1)\n",
    "y = data['result']"
   ]
  },
  {
   "cell_type": "code",
   "execution_count": 31,
   "id": "dca21e6d",
   "metadata": {},
   "outputs": [],
   "source": [
    "Xp = X.filter(regex = 'card_color').copy()\n",
    "Xp['home_fouls'] = X.filter(regex = 'home_team_foul').sum(axis = 1)\n",
    "Xp['away_fouls'] = X.filter(regex = 'away_team_foul').sum(axis = 1)"
   ]
  },
  {
   "cell_type": "code",
   "execution_count": 49,
   "id": "e6f56d6c",
   "metadata": {},
   "outputs": [],
   "source": [
    "np.random.seed(10)\n",
    "scaler = StandardScaler().fit(Xp)\n",
    "X_s = scaler.transform(Xp)\n",
    "\n",
    "size = np.min(np.unique(y[y != 'D'], return_counts = True)[1])\n",
    "W = np.random.choice(np.arange(y.shape[0])[y == 'W'], size = size)\n",
    "#D = np.random.choice(np.arange(y.shape[0])[y == 'D'], size = size)\n",
    "L = np.random.choice(np.arange(y.shape[0])[y == 'L'], size = size)\n",
    "\n",
    "idx = [W, L]\n",
    "new_idx = np.concatenate(idx)\n",
    "X_i = X_s[new_idx]\n",
    "y_i = y[new_idx]\n",
    "\n",
    "weights = {}\n",
    "for i, class_ in enumerate(['W', 'L']):\n",
    "    weights[class_] = y[y == class_].shape[0]/len(idx[i])\n",
    "X_train, X_test, y_train, y_test = train_test_split(X_i, y_i, test_size = 0.2, stratify = y_i)"
   ]
  },
  {
   "cell_type": "code",
   "execution_count": 50,
   "id": "4724cd10",
   "metadata": {},
   "outputs": [
    {
     "data": {
      "text/plain": [
       "{'W': 1.0, 'L': 2.061224489795918}"
      ]
     },
     "execution_count": 50,
     "metadata": {},
     "output_type": "execute_result"
    }
   ],
   "source": [
    "weights"
   ]
  },
  {
   "cell_type": "code",
   "execution_count": 55,
   "id": "0acf6354",
   "metadata": {},
   "outputs": [
    {
     "data": {
      "image/png": "[encoded data removed]",
      "text/plain": [
       "<Figure size 1080x360 with 4 Axes>"
      ]
     },
     "metadata": {
      "needs_background": "light"
     },
     "output_type": "display_data"
    },
    {
     "name": "stdout",
     "output_type": "stream",
     "text": [
      "   Class  Accuracy  Precision    Recall        F1  Support\n",
      "0      W  0.684685   0.597641  0.684685  0.638209      666\n",
      "1      L  0.539039   0.630931  0.539039  0.581377      666\n",
      "2  Total  0.611862   0.614286  0.611862  0.609793     1332\n"
     ]
    },
    {
     "data": {
      "image/png": "[encoded data removed]",
      "text/plain": [
       "<Figure size 1080x360 with 4 Axes>"
      ]
     },
     "metadata": {
      "needs_background": "light"
     },
     "output_type": "display_data"
    },
    {
     "name": "stdout",
     "output_type": "stream",
     "text": [
      "   Class  Accuracy  Precision    Recall        F1  Support\n",
      "0      W  0.694611   0.580000  0.694611  0.632153      167\n",
      "1      L  0.497006   0.619403  0.497006  0.551495      167\n",
      "2  Total  0.595808   0.599701  0.595808  0.591824      334\n"
     ]
    }
   ],
   "source": [
    "params = {\n",
    "    #'class_weight': weights,\n",
    "    'multi_class' : 'multinomial'\n",
    "}\n",
    "clf = LogisticRegression(**params).fit(X_train, y_train)\n",
    "\n",
    "print(metric_suite(clf, X_train, y_train, labels = ['W', 'L']))\n",
    "print(metric_suite(clf, X_test, y_test, labels = ['W', 'L']))"
   ]
  },
  {
   "cell_type": "code",
   "execution_count": 65,
   "id": "db53bf29",
   "metadata": {},
   "outputs": [
    {
     "data": {
      "text/html": [
       "<div>\n",
       "<style scoped>\n",
       "    .dataframe tbody tr th:only-of-type {\n",
       "        vertical-align: middle;\n",
       "    }\n",
       "\n",
       "    .dataframe tbody tr th {\n",
       "        vertical-align: top;\n",
       "    }\n",
       "\n",
       "    .dataframe thead th {\n",
       "        text-align: right;\n",
       "    }\n",
       "</style>\n",
       "<table border=\"1\" class=\"dataframe\">\n",
       "  <thead>\n",
       "    <tr style=\"text-align: right;\">\n",
       "      <th></th>\n",
       "      <th>feature</th>\n",
       "      <th>importance</th>\n",
       "    </tr>\n",
       "  </thead>\n",
       "  <tbody>\n",
       "    <tr>\n",
       "      <th>3</th>\n",
       "      <td>away_team_card_color_y2</td>\n",
       "      <td>1.057055</td>\n",
       "    </tr>\n",
       "    <tr>\n",
       "      <th>5</th>\n",
       "      <td>away_team_card_color_r</td>\n",
       "      <td>1.051260</td>\n",
       "    </tr>\n",
       "    <tr>\n",
       "      <th>6</th>\n",
       "      <td>home_fouls</td>\n",
       "      <td>0.995879</td>\n",
       "    </tr>\n",
       "    <tr>\n",
       "      <th>7</th>\n",
       "      <td>away_fouls</td>\n",
       "      <td>0.986425</td>\n",
       "    </tr>\n",
       "    <tr>\n",
       "      <th>4</th>\n",
       "      <td>home_team_card_color_r</td>\n",
       "      <td>0.930341</td>\n",
       "    </tr>\n",
       "    <tr>\n",
       "      <th>2</th>\n",
       "      <td>home_team_card_color_y2</td>\n",
       "      <td>0.926968</td>\n",
       "    </tr>\n",
       "    <tr>\n",
       "      <th>1</th>\n",
       "      <td>away_team_card_color_y</td>\n",
       "      <td>0.925517</td>\n",
       "    </tr>\n",
       "    <tr>\n",
       "      <th>0</th>\n",
       "      <td>home_team_card_color_y</td>\n",
       "      <td>0.808338</td>\n",
       "    </tr>\n",
       "  </tbody>\n",
       "</table>\n",
       "</div>"
      ],
      "text/plain": [
       "                   feature  importance\n",
       "3  away_team_card_color_y2    1.057055\n",
       "5   away_team_card_color_r    1.051260\n",
       "6               home_fouls    0.995879\n",
       "7               away_fouls    0.986425\n",
       "4   home_team_card_color_r    0.930341\n",
       "2  home_team_card_color_y2    0.926968\n",
       "1   away_team_card_color_y    0.925517\n",
       "0   home_team_card_color_y    0.808338"
      ]
     },
     "execution_count": 65,
     "metadata": {},
     "output_type": "execute_result"
    }
   ],
   "source": [
    "pd.DataFrame({\"feature\" : Xp.columns,\"importance\":np.e**clf.coef_[0]}).sort_values(by = 'importance', ascending = False)"
   ]
  },
  {
   "cell_type": "markdown",
   "id": "b04511b2",
   "metadata": {},
   "source": [
    "### With elo"
   ]
  },
  {
   "cell_type": "code",
   "execution_count": 94,
   "id": "67d6a2e4",
   "metadata": {},
   "outputs": [],
   "source": [
    "X = data[data.columns[9:]].drop(['result'],axis = 1)\n",
    "y = data['result']\n",
    "Xp = X.filter(regex = 'card_color|elo').copy()\n",
    "Xp['home_fouls'] = X.filter(regex = 'home_team_foul').sum(axis = 1)\n",
    "Xp['away_fouls'] = X.filter(regex = 'away_team_foul').sum(axis = 1)"
   ]
  },
  {
   "cell_type": "code",
   "execution_count": 95,
   "id": "86e0b7f7",
   "metadata": {},
   "outputs": [],
   "source": [
    "Xp = Xp.iloc[30:].reset_index(drop = True)\n",
    "y = y.iloc[30:].reset_index(drop = True)"
   ]
  },
  {
   "cell_type": "code",
   "execution_count": 101,
   "id": "0bf7319a",
   "metadata": {},
   "outputs": [],
   "source": [
    "np.random.seed(10)\n",
    "scaler = StandardScaler().fit(Xp)\n",
    "X_s = scaler.transform(Xp)\n",
    "\n",
    "'''size = np.min(np.unique(y, return_counts = True)[1])\n",
    "W = np.random.choice(y.index[y == 'W'], size = size)\n",
    "D = np.random.choice(y.index[y == 'D'], size = size)\n",
    "L = np.random.choice(y.index[y == 'L'], size = size)\n",
    "\n",
    "idx = [W, D, L]\n",
    "new_idx = np.concatenate(idx)\n",
    "X_i = X_s[new_idx]\n",
    "y_i = y[new_idx]\n",
    "\n",
    "weights = {}\n",
    "for i, class_ in enumerate(['W', 'D', 'L']):\n",
    "    weights[class_] = y[y == class_].shape[0]/len(idx[i])'''\n",
    "X_train, X_test, y_train, y_test = train_test_split(X_s, y, test_size = 0.2, stratify = y)"
   ]
  },
  {
   "cell_type": "code",
   "execution_count": 102,
   "id": "e477d10c",
   "metadata": {},
   "outputs": [
    {
     "data": {
      "image/png": "[encoded data removed]",
      "text/plain": [
       "<Figure size 1080x360 with 4 Axes>"
      ]
     },
     "metadata": {
      "needs_background": "light"
     },
     "output_type": "display_data"
    },
    {
     "name": "stdout",
     "output_type": "stream",
     "text": [
      "   Class  Accuracy  Precision    Recall        F1  Support\n",
      "0      W  0.383686   0.582569  0.383686  0.462659      662\n",
      "1      D  0.000000   0.000000  0.000000  0.000000      254\n",
      "2      L  0.899853   0.664853  0.899853  0.764706     1358\n",
      "3  Total  0.649077   0.566636  0.649077  0.591359     2274\n"
     ]
    },
    {
     "data": {
      "image/png": "[encoded data removed]",
      "text/plain": [
       "<Figure size 1080x360 with 4 Axes>"
      ]
     },
     "metadata": {
      "needs_background": "light"
     },
     "output_type": "display_data"
    },
    {
     "name": "stdout",
     "output_type": "stream",
     "text": [
      "   Class  Accuracy  Precision    Recall        F1  Support\n",
      "0      W  0.337349   0.500000  0.337349  0.402878      166\n",
      "1      D  0.000000   0.000000  0.000000  0.000000       64\n",
      "2      L  0.890855   0.660832  0.890855  0.758794      339\n",
      "3  Total  0.629174   0.539582  0.629174  0.569611      569\n"
     ]
    }
   ],
   "source": [
    "params = {\n",
    "    #'class_weight': weights,\n",
    "    'multi_class' : 'multinomial'\n",
    "}\n",
    "clf = LogisticRegression(**params).fit(X_train, y_train)\n",
    "\n",
    "print(metric_suite(clf, X_train, y_train, labels = ['W', 'D','L']))\n",
    "print(metric_suite(clf, X_test, y_test, labels = ['W', 'D','L']))"
   ]
  },
  {
   "cell_type": "code",
   "execution_count": null,
   "id": "f75e4824",
   "metadata": {},
   "outputs": [],
   "source": []
  }
 ],
 "metadata": {
  "kernelspec": {
   "display_name": "Python 3 (ipykernel)",
   "language": "python",
   "name": "python3"
  },
  "language_info": {
   "codemirror_mode": {
    "name": "ipython",
    "version": 3
   },
   "file_extension": ".py",
   "mimetype": "text/x-python",
   "name": "python",
   "nbconvert_exporter": "python",
   "pygments_lexer": "ipython3",
   "version": "3.8.0"
  }
 },
 "nbformat": 4,
 "nbformat_minor": 5
}
