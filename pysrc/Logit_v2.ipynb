{
 "cells": [
  {
   "cell_type": "code",
   "execution_count": 1,
   "id": "0c365e31",
   "metadata": {},
   "outputs": [],
   "source": [
    "import numpy as np\n",
    "import pandas as pd\n",
    "import lxml.etree as etree\n",
    "import sqlite3 as sql\n",
    "from process import *\n",
    "from tqdm.notebook import tqdm\n",
    "import matplotlib.pyplot as plt"
   ]
  },
  {
   "cell_type": "code",
   "execution_count": 2,
   "id": "28d51528",
   "metadata": {},
   "outputs": [],
   "source": [
    "from sklearn.linear_model import LogisticRegression\n",
    "from sklearn.model_selection import train_test_split, GridSearchCV\n",
    "from sklearn.metrics import precision_recall_fscore_support, precision_score\n",
    "from sklearn.preprocessing import StandardScaler\n",
    "from sklearn.ensemble import RandomForestClassifier"
   ]
  },
  {
   "cell_type": "code",
   "execution_count": 3,
   "id": "fc22afe7",
   "metadata": {},
   "outputs": [
    {
     "data": {
      "text/html": [
       "<div>\n",
       "<style scoped>\n",
       "    .dataframe tbody tr th:only-of-type {\n",
       "        vertical-align: middle;\n",
       "    }\n",
       "\n",
       "    .dataframe tbody tr th {\n",
       "        vertical-align: top;\n",
       "    }\n",
       "\n",
       "    .dataframe thead th {\n",
       "        text-align: right;\n",
       "    }\n",
       "</style>\n",
       "<table border=\"1\" class=\"dataframe\">\n",
       "  <thead>\n",
       "    <tr style=\"text-align: right;\">\n",
       "      <th></th>\n",
       "      <th>match_api_id</th>\n",
       "      <th>league_id</th>\n",
       "      <th>date</th>\n",
       "      <th>home_team_api_id</th>\n",
       "      <th>home_team_name</th>\n",
       "      <th>away_team_api_id</th>\n",
       "      <th>away_team_name</th>\n",
       "      <th>home_team_goal</th>\n",
       "      <th>away_team_goal</th>\n",
       "      <th>home_team_foul_reason_from_behind</th>\n",
       "      <th>...</th>\n",
       "      <th>away_team_card_reason_pushing</th>\n",
       "      <th>home_team_card_reason_diving</th>\n",
       "      <th>away_team_card_reason_diving</th>\n",
       "      <th>home_team_card_reason_hands</th>\n",
       "      <th>away_team_card_reason_hands</th>\n",
       "      <th>home_team_card_reason_Removing Shirt</th>\n",
       "      <th>away_team_card_reason_Removing Shirt</th>\n",
       "      <th>result</th>\n",
       "      <th>home_elo</th>\n",
       "      <th>away_elo</th>\n",
       "    </tr>\n",
       "  </thead>\n",
       "  <tbody>\n",
       "    <tr>\n",
       "      <th>0</th>\n",
       "      <td>489044</td>\n",
       "      <td>1729</td>\n",
       "      <td>2008-08-16 00:00:00</td>\n",
       "      <td>8472</td>\n",
       "      <td>Sunderland</td>\n",
       "      <td>8650</td>\n",
       "      <td>Liverpool</td>\n",
       "      <td>0</td>\n",
       "      <td>2</td>\n",
       "      <td>2.0</td>\n",
       "      <td>...</td>\n",
       "      <td>0.0</td>\n",
       "      <td>0.0</td>\n",
       "      <td>0.0</td>\n",
       "      <td>0.0</td>\n",
       "      <td>0.0</td>\n",
       "      <td>0.0</td>\n",
       "      <td>0.0</td>\n",
       "      <td>L</td>\n",
       "      <td>1600.0</td>\n",
       "      <td>1600.0</td>\n",
       "    </tr>\n",
       "    <tr>\n",
       "      <th>1</th>\n",
       "      <td>489045</td>\n",
       "      <td>1729</td>\n",
       "      <td>2008-08-16 00:00:00</td>\n",
       "      <td>8654</td>\n",
       "      <td>West Ham United</td>\n",
       "      <td>8528</td>\n",
       "      <td>Wigan Athletic</td>\n",
       "      <td>2</td>\n",
       "      <td>4</td>\n",
       "      <td>0.0</td>\n",
       "      <td>...</td>\n",
       "      <td>0.0</td>\n",
       "      <td>0.0</td>\n",
       "      <td>0.0</td>\n",
       "      <td>0.0</td>\n",
       "      <td>0.0</td>\n",
       "      <td>0.0</td>\n",
       "      <td>0.0</td>\n",
       "      <td>L</td>\n",
       "      <td>1600.0</td>\n",
       "      <td>1600.0</td>\n",
       "    </tr>\n",
       "    <tr>\n",
       "      <th>2</th>\n",
       "      <td>489047</td>\n",
       "      <td>1729</td>\n",
       "      <td>2008-08-16 00:00:00</td>\n",
       "      <td>8668</td>\n",
       "      <td>Everton</td>\n",
       "      <td>8655</td>\n",
       "      <td>Blackburn Rovers</td>\n",
       "      <td>2</td>\n",
       "      <td>12</td>\n",
       "      <td>2.0</td>\n",
       "      <td>...</td>\n",
       "      <td>0.0</td>\n",
       "      <td>0.0</td>\n",
       "      <td>0.0</td>\n",
       "      <td>0.0</td>\n",
       "      <td>0.0</td>\n",
       "      <td>0.0</td>\n",
       "      <td>0.0</td>\n",
       "      <td>L</td>\n",
       "      <td>1600.0</td>\n",
       "      <td>1600.0</td>\n",
       "    </tr>\n",
       "    <tr>\n",
       "      <th>3</th>\n",
       "      <td>489048</td>\n",
       "      <td>1729</td>\n",
       "      <td>2008-08-16 00:00:00</td>\n",
       "      <td>8549</td>\n",
       "      <td>Middlesbrough</td>\n",
       "      <td>8586</td>\n",
       "      <td>Tottenham Hotspur</td>\n",
       "      <td>2</td>\n",
       "      <td>4</td>\n",
       "      <td>0.0</td>\n",
       "      <td>...</td>\n",
       "      <td>0.0</td>\n",
       "      <td>0.0</td>\n",
       "      <td>0.0</td>\n",
       "      <td>0.0</td>\n",
       "      <td>0.0</td>\n",
       "      <td>0.0</td>\n",
       "      <td>0.0</td>\n",
       "      <td>L</td>\n",
       "      <td>1600.0</td>\n",
       "      <td>1600.0</td>\n",
       "    </tr>\n",
       "    <tr>\n",
       "      <th>4</th>\n",
       "      <td>489049</td>\n",
       "      <td>1729</td>\n",
       "      <td>2008-08-16 00:00:00</td>\n",
       "      <td>8559</td>\n",
       "      <td>Bolton Wanderers</td>\n",
       "      <td>10194</td>\n",
       "      <td>Stoke City</td>\n",
       "      <td>3</td>\n",
       "      <td>4</td>\n",
       "      <td>2.0</td>\n",
       "      <td>...</td>\n",
       "      <td>0.0</td>\n",
       "      <td>0.0</td>\n",
       "      <td>0.0</td>\n",
       "      <td>0.0</td>\n",
       "      <td>0.0</td>\n",
       "      <td>0.0</td>\n",
       "      <td>0.0</td>\n",
       "      <td>L</td>\n",
       "      <td>1600.0</td>\n",
       "      <td>1600.0</td>\n",
       "    </tr>\n",
       "  </tbody>\n",
       "</table>\n",
       "<p>5 rows × 70 columns</p>\n",
       "</div>"
      ],
      "text/plain": [
       "   match_api_id  league_id                 date  home_team_api_id  \\\n",
       "0        489044       1729  2008-08-16 00:00:00              8472   \n",
       "1        489045       1729  2008-08-16 00:00:00              8654   \n",
       "2        489047       1729  2008-08-16 00:00:00              8668   \n",
       "3        489048       1729  2008-08-16 00:00:00              8549   \n",
       "4        489049       1729  2008-08-16 00:00:00              8559   \n",
       "\n",
       "     home_team_name  away_team_api_id     away_team_name  home_team_goal  \\\n",
       "0        Sunderland              8650          Liverpool               0   \n",
       "1   West Ham United              8528     Wigan Athletic               2   \n",
       "2           Everton              8655   Blackburn Rovers               2   \n",
       "3     Middlesbrough              8586  Tottenham Hotspur               2   \n",
       "4  Bolton Wanderers             10194         Stoke City               3   \n",
       "\n",
       "   away_team_goal  home_team_foul_reason_from_behind  ...  \\\n",
       "0               2                                2.0  ...   \n",
       "1               4                                0.0  ...   \n",
       "2              12                                2.0  ...   \n",
       "3               4                                0.0  ...   \n",
       "4               4                                2.0  ...   \n",
       "\n",
       "   away_team_card_reason_pushing  home_team_card_reason_diving  \\\n",
       "0                            0.0                           0.0   \n",
       "1                            0.0                           0.0   \n",
       "2                            0.0                           0.0   \n",
       "3                            0.0                           0.0   \n",
       "4                            0.0                           0.0   \n",
       "\n",
       "   away_team_card_reason_diving  home_team_card_reason_hands  \\\n",
       "0                           0.0                          0.0   \n",
       "1                           0.0                          0.0   \n",
       "2                           0.0                          0.0   \n",
       "3                           0.0                          0.0   \n",
       "4                           0.0                          0.0   \n",
       "\n",
       "   away_team_card_reason_hands  home_team_card_reason_Removing Shirt  \\\n",
       "0                          0.0                                   0.0   \n",
       "1                          0.0                                   0.0   \n",
       "2                          0.0                                   0.0   \n",
       "3                          0.0                                   0.0   \n",
       "4                          0.0                                   0.0   \n",
       "\n",
       "   away_team_card_reason_Removing Shirt  result  home_elo  away_elo  \n",
       "0                                   0.0       L    1600.0    1600.0  \n",
       "1                                   0.0       L    1600.0    1600.0  \n",
       "2                                   0.0       L    1600.0    1600.0  \n",
       "3                                   0.0       L    1600.0    1600.0  \n",
       "4                                   0.0       L    1600.0    1600.0  \n",
       "\n",
       "[5 rows x 70 columns]"
      ]
     },
     "execution_count": 3,
     "metadata": {},
     "output_type": "execute_result"
    }
   ],
   "source": [
    "data = pd.read_csv('../data/prem_data_elo.csv', index_col = 'Unnamed: 0')\n",
    "data.head()"
   ]
  },
  {
   "cell_type": "code",
   "execution_count": 29,
   "id": "37d0b3ab",
   "metadata": {},
   "outputs": [],
   "source": [
    "X = data[data.columns[9:]].drop(\n",
    "    ['result', 'home_elo', 'away_elo'],\n",
    "axis = 1)\n",
    "y = data['result']"
   ]
  },
  {
   "cell_type": "code",
   "execution_count": 31,
   "id": "bdf253b8",
   "metadata": {},
   "outputs": [],
   "source": [
    "Xp = X.filter(regex = 'card_color').copy()\n",
    "Xp['home_fouls'] = X.filter(regex = 'home_team_foul').sum(axis = 1)\n",
    "Xp['away_fouls'] = X.filter(regex = 'away_team_foul').sum(axis = 1)"
   ]
  },
  {
   "cell_type": "code",
   "execution_count": 49,
   "id": "396eb235",
   "metadata": {},
   "outputs": [],
   "source": [
    "np.random.seed(10)\n",
    "scaler = StandardScaler().fit(Xp)\n",
    "X_s = scaler.transform(Xp)\n",
    "\n",
    "size = np.min(np.unique(y[y != 'D'], return_counts = True)[1])\n",
    "W = np.random.choice(np.arange(y.shape[0])[y == 'W'], size = size)\n",
    "#D = np.random.choice(np.arange(y.shape[0])[y == 'D'], size = size)\n",
    "L = np.random.choice(np.arange(y.shape[0])[y == 'L'], size = size)\n",
    "\n",
    "idx = [W, L]\n",
    "new_idx = np.concatenate(idx)\n",
    "X_i = X_s[new_idx]\n",
    "y_i = y[new_idx]\n",
    "\n",
    "weights = {}\n",
    "for i, class_ in enumerate(['W', 'L']):\n",
    "    weights[class_] = y[y == class_].shape[0]/len(idx[i])\n",
    "X_train, X_test, y_train, y_test = train_test_split(X_i, y_i, test_size = 0.2, stratify = y_i)"
   ]
  },
  {
   "cell_type": "code",
   "execution_count": 50,
   "id": "85e615cd",
   "metadata": {},
   "outputs": [
    {
     "data": {
      "text/plain": [
       "{'W': 1.0, 'L': 2.061224489795918}"
      ]
     },
     "execution_count": 50,
     "metadata": {},
     "output_type": "execute_result"
    }
   ],
   "source": [
    "weights"
   ]
  },
  {
   "cell_type": "code",
   "execution_count": 55,
   "id": "443ff200",
   "metadata": {},
   "outputs": [
    {
     "data": {
      "image/png": "[encoded data removed]",
      "text/plain": [
       "<Figure size 1080x360 with 4 Axes>"
      ]
     },
     "metadata": {
      "needs_background": "light"
     },
     "output_type": "display_data"
    },
    {
     "name": "stdout",
     "output_type": "stream",
     "text": [
      "   Class  Accuracy  Precision    Recall        F1  Support\n",
      "0      W  0.684685   0.597641  0.684685  0.638209      666\n",
      "1      L  0.539039   0.630931  0.539039  0.581377      666\n",
      "2  Total  0.611862   0.614286  0.611862  0.609793     1332\n"
     ]
    },
    {
     "data": {
      "image/png": "[encoded data removed]",
      "text/plain": [
       "<Figure size 1080x360 with 4 Axes>"
      ]
     },
     "metadata": {
      "needs_background": "light"
     },
     "output_type": "display_data"
    },
    {
     "name": "stdout",
     "output_type": "stream",
     "text": [
      "   Class  Accuracy  Precision    Recall        F1  Support\n",
      "0      W  0.694611   0.580000  0.694611  0.632153      167\n",
      "1      L  0.497006   0.619403  0.497006  0.551495      167\n",
      "2  Total  0.595808   0.599701  0.595808  0.591824      334\n"
     ]
    }
   ],
   "source": [
    "params = {\n",
    "    #'class_weight': weights,\n",
    "    'multi_class' : 'multinomial'\n",
    "}\n",
    "clf = LogisticRegression(**params).fit(X_train, y_train)\n",
    "\n",
    "print(metric_suite(clf, X_train, y_train, labels = ['W', 'L']))\n",
    "print(metric_suite(clf, X_test, y_test, labels = ['W', 'L']))"
   ]
  },
  {
   "cell_type": "code",
   "execution_count": 65,
   "id": "d3656a65",
   "metadata": {},
   "outputs": [
    {
     "data": {
      "text/html": [
       "<div>\n",
       "<style scoped>\n",
       "    .dataframe tbody tr th:only-of-type {\n",
       "        vertical-align: middle;\n",
       "    }\n",
       "\n",
       "    .dataframe tbody tr th {\n",
       "        vertical-align: top;\n",
       "    }\n",
       "\n",
       "    .dataframe thead th {\n",
       "        text-align: right;\n",
       "    }\n",
       "</style>\n",
       "<table border=\"1\" class=\"dataframe\">\n",
       "  <thead>\n",
       "    <tr style=\"text-align: right;\">\n",
       "      <th></th>\n",
       "      <th>feature</th>\n",
       "      <th>importance</th>\n",
       "    </tr>\n",
       "  </thead>\n",
       "  <tbody>\n",
       "    <tr>\n",
       "      <th>3</th>\n",
       "      <td>away_team_card_color_y2</td>\n",
       "      <td>1.057055</td>\n",
       "    </tr>\n",
       "    <tr>\n",
       "      <th>5</th>\n",
       "      <td>away_team_card_color_r</td>\n",
       "      <td>1.051260</td>\n",
       "    </tr>\n",
       "    <tr>\n",
       "      <th>6</th>\n",
       "      <td>home_fouls</td>\n",
       "      <td>0.995879</td>\n",
       "    </tr>\n",
       "    <tr>\n",
       "      <th>7</th>\n",
       "      <td>away_fouls</td>\n",
       "      <td>0.986425</td>\n",
       "    </tr>\n",
       "    <tr>\n",
       "      <th>4</th>\n",
       "      <td>home_team_card_color_r</td>\n",
       "      <td>0.930341</td>\n",
       "    </tr>\n",
       "    <tr>\n",
       "      <th>2</th>\n",
       "      <td>home_team_card_color_y2</td>\n",
       "      <td>0.926968</td>\n",
       "    </tr>\n",
       "    <tr>\n",
       "      <th>1</th>\n",
       "      <td>away_team_card_color_y</td>\n",
       "      <td>0.925517</td>\n",
       "    </tr>\n",
       "    <tr>\n",
       "      <th>0</th>\n",
       "      <td>home_team_card_color_y</td>\n",
       "      <td>0.808338</td>\n",
       "    </tr>\n",
       "  </tbody>\n",
       "</table>\n",
       "</div>"
      ],
      "text/plain": [
       "                   feature  importance\n",
       "3  away_team_card_color_y2    1.057055\n",
       "5   away_team_card_color_r    1.051260\n",
       "6               home_fouls    0.995879\n",
       "7               away_fouls    0.986425\n",
       "4   home_team_card_color_r    0.930341\n",
       "2  home_team_card_color_y2    0.926968\n",
       "1   away_team_card_color_y    0.925517\n",
       "0   home_team_card_color_y    0.808338"
      ]
     },
     "execution_count": 65,
     "metadata": {},
     "output_type": "execute_result"
    }
   ],
   "source": [
    "pd.DataFrame({\"feature\" : Xp.columns,\"importance\":np.e**clf.coef_[0]}).sort_values(by = 'importance', ascending = False)"
   ]
  },
  {
   "cell_type": "markdown",
   "id": "58fb80e3",
   "metadata": {},
   "source": [
    "### With elo"
   ]
  },
  {
   "cell_type": "code",
   "execution_count": 94,
   "id": "0d420647",
   "metadata": {},
   "outputs": [],
   "source": [
    "X = data[data.columns[9:]].drop(['result'],axis = 1)\n",
    "y = data['result']\n",
    "Xp = X.filter(regex = 'card_color|elo').copy()\n",
    "Xp['home_fouls'] = X.filter(regex = 'home_team_foul').sum(axis = 1)\n",
    "Xp['away_fouls'] = X.filter(regex = 'away_team_foul').sum(axis = 1)"
   ]
  },
  {
   "cell_type": "code",
   "execution_count": 95,
   "id": "302ea191",
   "metadata": {},
   "outputs": [],
   "source": [
    "Xp = Xp.iloc[30:].reset_index(drop = True)\n",
    "y = y.iloc[30:].reset_index(drop = True)"
   ]
  },
  {
   "cell_type": "code",
   "execution_count": 103,
   "id": "90a5ec8f",
   "metadata": {},
   "outputs": [],
   "source": [
    "np.random.seed(10)\n",
    "scaler = StandardScaler().fit(Xp)\n",
    "X_s = scaler.transform(Xp)\n",
    "\n",
    "size = np.min(np.unique(y[y != 'D'], return_counts = True)[1])\n",
    "W = np.random.choice(y.index[y == 'W'], size = size)\n",
    "#D = np.random.choice(y.index[y == 'D'], size = size)\n",
    "L = np.random.choice(y.index[y == 'L'], size = size)\n",
    "\n",
    "idx = [W, D, L]\n",
    "new_idx = np.concatenate(idx)\n",
    "X_i = X_s[new_idx]\n",
    "y_i = y[new_idx]\n",
    "\n",
    "weights = {}\n",
    "for i, class_ in enumerate(['W', 'L']):\n",
    "    weights[class_] = y[y == class_].shape[0]/len(idx[i])\n",
    "X_train, X_test, y_train, y_test = train_test_split(X_i, y_i, test_size = 0.2, stratify = y_i)"
   ]
  },
  {
   "cell_type": "code",
   "execution_count": 105,
   "id": "78a53a5b",
   "metadata": {},
   "outputs": [
    {
     "data": {
      "image/png": "[encoded data removed]",
      "text/plain": [
       "<Figure size 1080x360 with 4 Axes>"
      ]
     },
     "metadata": {
      "needs_background": "light"
     },
     "output_type": "display_data"
    },
    {
     "name": "stdout",
     "output_type": "stream",
     "text": [
      "   Class  Accuracy  Precision    Recall        F1  Support\n",
      "0      W  0.034743   0.793103  0.034743  0.066570      662\n",
      "1      L  0.992447   0.423871  0.992447  0.594033      662\n",
      "2  Total  0.430652   0.608487  0.513595  0.330301     1324\n"
     ]
    },
    {
     "data": {
      "image/png": "[encoded data removed]",
      "text/plain": [
       "<Figure size 1080x360 with 4 Axes>"
      ]
     },
     "metadata": {
      "needs_background": "light"
     },
     "output_type": "display_data"
    },
    {
     "name": "stdout",
     "output_type": "stream",
     "text": [
      "   Class  Accuracy  Precision    Recall        F1  Support\n",
      "0      W  0.036145   1.000000  0.036145  0.069767      166\n",
      "1      L  1.000000   0.426735  1.000000  0.598198      166\n",
      "2  Total  0.435443   0.713368  0.518072  0.333983      332\n"
     ]
    }
   ],
   "source": [
    "params = {\n",
    "    #'class_weight': weights,\n",
    "    'multi_class' : 'multinomial'\n",
    "}\n",
    "clf = LogisticRegression(**params).fit(X_train, y_train)\n",
    "\n",
    "print(metric_suite(clf, X_train, y_train, labels = ['W', 'L']))\n",
    "print(metric_suite(clf, X_test, y_test, labels = ['W', 'L']))"
   ]
  },
  {
   "cell_type": "code",
   "execution_count": 106,
   "id": "7107c652",
   "metadata": {},
   "outputs": [],
   "source": [
    "clf2 = RandomForestClassifier().fit(X_train, y_train)"
   ]
  },
  {
   "cell_type": "code",
   "execution_count": 107,
   "id": "d9e1a1dd",
   "metadata": {},
   "outputs": [
    {
     "data": {
      "image/png": "[encoded data removed]",
      "text/plain": [
       "<Figure size 1080x360 with 4 Axes>"
      ]
     },
     "metadata": {
      "needs_background": "light"
     },
     "output_type": "display_data"
    },
    {
     "name": "stdout",
     "output_type": "stream",
     "text": [
      "   Class  Accuracy  Precision  Recall   F1  Support\n",
      "0      W       1.0        1.0     1.0  1.0      662\n",
      "1      L       1.0        1.0     1.0  1.0      662\n",
      "2  Total       1.0        1.0     1.0  1.0     1324\n"
     ]
    },
    {
     "data": {
      "image/png": "[encoded data removed]",
      "text/plain": [
       "<Figure size 1080x360 with 4 Axes>"
      ]
     },
     "metadata": {
      "needs_background": "light"
     },
     "output_type": "display_data"
    },
    {
     "name": "stdout",
     "output_type": "stream",
     "text": [
      "   Class  Accuracy  Precision    Recall        F1  Support\n",
      "0      W  0.801205   0.773256  0.801205  0.786982      166\n",
      "1      L  0.825301   0.761111  0.825301  0.791908      166\n",
      "2  Total  0.772152   0.767183  0.813253  0.789445      332\n"
     ]
    }
   ],
   "source": [
    "print(metric_suite(clf2, X_train, y_train, labels = ['W', 'L']))\n",
    "print(metric_suite(clf2, X_test, y_test, labels = ['W', 'L']))"
   ]
  },
  {
   "cell_type": "code",
   "execution_count": 110,
   "id": "a1c55a8b",
   "metadata": {},
   "outputs": [],
   "source": [
    "from sklearn.inspection import permutation_importance"
   ]
  },
  {
   "cell_type": "code",
   "execution_count": 128,
   "id": "0528e8e3",
   "metadata": {},
   "outputs": [
    {
     "data": {
      "text/plain": [
       "0.7721518987341772"
      ]
     },
     "execution_count": 128,
     "metadata": {},
     "output_type": "execute_result"
    }
   ],
   "source": [
    "clf2.score(X_test, y_test)"
   ]
  },
  {
   "cell_type": "code",
   "execution_count": 211,
   "id": "75ccfc28",
   "metadata": {},
   "outputs": [],
   "source": [
    "import pickle\n",
    "pickle.dump(clf2, open(\"rf_baseline_elo.sav\", 'wb'))"
   ]
  },
  {
   "cell_type": "code",
   "execution_count": 117,
   "id": "242bca36",
   "metadata": {},
   "outputs": [],
   "source": [
    "r = permutation_importance(clf2, X_test, y_test, n_repeats = 30, random_state = 0)"
   ]
  },
  {
   "cell_type": "code",
   "execution_count": 135,
   "id": "4ee2d953",
   "metadata": {},
   "outputs": [
    {
     "name": "stdout",
     "output_type": "stream",
     "text": [
      "home_elo\t\t0.186 +/- 0.019\n",
      "away_elo\t\t0.16 +/- 0.02\n",
      "home_team_card_color_y\t\t0.121 +/- 0.012\n",
      "home_fouls\t\t0.068 +/- 0.009\n",
      "away_fouls\t\t0.066 +/- 0.013\n",
      "away_team_card_color_y\t\t0.038 +/- 0.008\n",
      "away_team_card_color_r\t\t0.012 +/- 0.004\n"
     ]
    }
   ],
   "source": [
    "qual_idx = []\n",
    "for i in r.importances_mean.argsort()[::-1]:\n",
    "    if r.importances_mean[i] - 2* r.importances_std[i] > 0:\n",
    "        qual_idx += [i]\n",
    "        print(\"{feat}\\t\\t{mean} +/- {std}\".format(\n",
    "            feat = Xp.columns[i],\n",
    "            mean = np.round(r.importances_mean[i], 3),\n",
    "            std = np.round(r.importances_std[i], 3)\n",
    "        ))"
   ]
  },
  {
   "cell_type": "code",
   "execution_count": 136,
   "id": "65f51fcc",
   "metadata": {},
   "outputs": [],
   "source": [
    "# Above is average decrease in accuracy score when feature is shuffled"
   ]
  },
  {
   "cell_type": "code",
   "execution_count": 154,
   "id": "ac4eb203",
   "metadata": {},
   "outputs": [
    {
     "data": {
      "image/png": "[encoded data removed]",
      "text/plain": [
       "<Figure size 504x720 with 2 Axes>"
      ]
     },
     "metadata": {
      "needs_background": "light"
     },
     "output_type": "display_data"
    }
   ],
   "source": [
    "fig, axs = plt.subplots(2,1, figsize = (7,10))\n",
    "axs[0].barh(Xp.columns[qual_idx][::-1], r.importances_mean[qual_idx][::-1])\n",
    "axs[0].set_title('Permuted Feature Importances for Random Forest')\n",
    "axs[0].set_xlabel('Avg Decrease in Score when Shuffled')\n",
    "axs[0].set_ylabel('Feature')\n",
    "\n",
    "axs[1].barh(Xp.columns[qual_idx][::-1], 0.771151-r.importances_mean[qual_idx][::-1])\n",
    "axs[1].set_title('Validation Score After Shuffle for Random Forest')\n",
    "axs[1].set_xlabel('Score After Shuffled')\n",
    "axs[1].set_ylabel('Feature')\n",
    "\n",
    "axs[1].plot([0.5, 0.5], [Xp.columns[qual_idx][0], Xp.columns[qual_idx][-1]], 'r--')\n",
    "axs[1].plot([0.771151, 0.771151], [Xp.columns[qual_idx][0], Xp.columns[qual_idx][-1]], 'g--')\n",
    "plt.show()"
   ]
  },
  {
   "cell_type": "code",
   "execution_count": 129,
   "id": "9b680cbb",
   "metadata": {},
   "outputs": [],
   "source": [
    "from sklearn.preprocessing import PolynomialFeatures"
   ]
  },
  {
   "cell_type": "code",
   "execution_count": 188,
   "id": "d05fd0e2",
   "metadata": {
    "scrolled": true
   },
   "outputs": [
    {
     "name": "stdout",
     "output_type": "stream",
     "text": [
      "Fitting 3 folds for each of 100 candidates, totalling 300 fits\n",
      "[CV 1/3] END max_depth=10, min_samples_leaf=1, min_samples_split=2, n_jobs=-1;, score=0.676 total time=   0.1s\n",
      "[CV 2/3] END max_depth=10, min_samples_leaf=1, min_samples_split=2, n_jobs=-1;, score=0.644 total time=   0.1s\n",
      "[CV 3/3] END max_depth=10, min_samples_leaf=1, min_samples_split=2, n_jobs=-1;, score=0.627 total time=   0.1s\n",
      "[CV 1/3] END max_depth=10, min_samples_leaf=1, min_samples_split=5, n_jobs=-1;, score=0.649 total time=   0.1s\n",
      "[CV 2/3] END max_depth=10, min_samples_leaf=1, min_samples_split=5, n_jobs=-1;, score=0.624 total time=   0.1s\n",
      "[CV 3/3] END max_depth=10, min_samples_leaf=1, min_samples_split=5, n_jobs=-1;, score=0.589 total time=   0.1s\n",
      "[CV 1/3] END max_depth=10, min_samples_leaf=1, min_samples_split=10, n_jobs=-1;, score=0.624 total time=   0.1s\n",
      "[CV 2/3] END max_depth=10, min_samples_leaf=1, min_samples_split=10, n_jobs=-1;, score=0.612 total time=   0.1s\n",
      "[CV 3/3] END max_depth=10, min_samples_leaf=1, min_samples_split=10, n_jobs=-1;, score=0.597 total time=   0.1s\n",
      "[CV 1/3] END max_depth=10, min_samples_leaf=1, min_samples_split=20, n_jobs=-1;, score=0.598 total time=   0.1s\n",
      "[CV 2/3] END max_depth=10, min_samples_leaf=1, min_samples_split=20, n_jobs=-1;, score=0.593 total time=   0.1s\n",
      "[CV 3/3] END max_depth=10, min_samples_leaf=1, min_samples_split=20, n_jobs=-1;, score=0.570 total time=   0.1s\n",
      "[CV 1/3] END max_depth=10, min_samples_leaf=2, min_samples_split=2, n_jobs=-1;, score=0.638 total time=   0.1s\n",
      "[CV 2/3] END max_depth=10, min_samples_leaf=2, min_samples_split=2, n_jobs=-1;, score=0.625 total time=   0.1s\n",
      "[CV 3/3] END max_depth=10, min_samples_leaf=2, min_samples_split=2, n_jobs=-1;, score=0.614 total time=   0.1s\n",
      "[CV 1/3] END max_depth=10, min_samples_leaf=2, min_samples_split=5, n_jobs=-1;, score=0.641 total time=   0.1s\n",
      "[CV 2/3] END max_depth=10, min_samples_leaf=2, min_samples_split=5, n_jobs=-1;, score=0.618 total time=   0.1s\n",
      "[CV 3/3] END max_depth=10, min_samples_leaf=2, min_samples_split=5, n_jobs=-1;, score=0.610 total time=   0.1s\n",
      "[CV 1/3] END max_depth=10, min_samples_leaf=2, min_samples_split=10, n_jobs=-1;, score=0.609 total time=   0.1s\n",
      "[CV 2/3] END max_depth=10, min_samples_leaf=2, min_samples_split=10, n_jobs=-1;, score=0.601 total time=   0.1s\n",
      "[CV 3/3] END max_depth=10, min_samples_leaf=2, min_samples_split=10, n_jobs=-1;, score=0.586 total time=   0.1s\n",
      "[CV 1/3] END max_depth=10, min_samples_leaf=2, min_samples_split=20, n_jobs=-1;, score=0.600 total time=   0.1s\n",
      "[CV 2/3] END max_depth=10, min_samples_leaf=2, min_samples_split=20, n_jobs=-1;, score=0.595 total time=   0.1s\n",
      "[CV 3/3] END max_depth=10, min_samples_leaf=2, min_samples_split=20, n_jobs=-1;, score=0.574 total time=   0.1s\n",
      "[CV 1/3] END max_depth=10, min_samples_leaf=5, min_samples_split=2, n_jobs=-1;, score=0.605 total time=   0.1s\n",
      "[CV 2/3] END max_depth=10, min_samples_leaf=5, min_samples_split=2, n_jobs=-1;, score=0.582 total time=   0.1s\n",
      "[CV 3/3] END max_depth=10, min_samples_leaf=5, min_samples_split=2, n_jobs=-1;, score=0.574 total time=   0.1s\n",
      "[CV 1/3] END max_depth=10, min_samples_leaf=5, min_samples_split=5, n_jobs=-1;, score=0.596 total time=   0.1s\n",
      "[CV 2/3] END max_depth=10, min_samples_leaf=5, min_samples_split=5, n_jobs=-1;, score=0.584 total time=   0.1s\n",
      "[CV 3/3] END max_depth=10, min_samples_leaf=5, min_samples_split=5, n_jobs=-1;, score=0.589 total time=   0.1s\n",
      "[CV 1/3] END max_depth=10, min_samples_leaf=5, min_samples_split=10, n_jobs=-1;, score=0.603 total time=   0.1s\n",
      "[CV 2/3] END max_depth=10, min_samples_leaf=5, min_samples_split=10, n_jobs=-1;, score=0.606 total time=   0.1s\n",
      "[CV 3/3] END max_depth=10, min_samples_leaf=5, min_samples_split=10, n_jobs=-1;, score=0.586 total time=   0.1s\n",
      "[CV 1/3] END max_depth=10, min_samples_leaf=5, min_samples_split=20, n_jobs=-1;, score=0.586 total time=   0.1s\n",
      "[CV 2/3] END max_depth=10, min_samples_leaf=5, min_samples_split=20, n_jobs=-1;, score=0.584 total time=   0.1s\n",
      "[CV 3/3] END max_depth=10, min_samples_leaf=5, min_samples_split=20, n_jobs=-1;, score=0.586 total time=   0.1s\n",
      "[CV 1/3] END max_depth=10, min_samples_leaf=10, min_samples_split=2, n_jobs=-1;, score=0.567 total time=   0.1s\n",
      "[CV 2/3] END max_depth=10, min_samples_leaf=10, min_samples_split=2, n_jobs=-1;, score=0.586 total time=   0.1s\n",
      "[CV 3/3] END max_depth=10, min_samples_leaf=10, min_samples_split=2, n_jobs=-1;, score=0.567 total time=   0.1s\n",
      "[CV 1/3] END max_depth=10, min_samples_leaf=10, min_samples_split=5, n_jobs=-1;, score=0.577 total time=   0.1s\n",
      "[CV 2/3] END max_depth=10, min_samples_leaf=10, min_samples_split=5, n_jobs=-1;, score=0.574 total time=   0.1s\n",
      "[CV 3/3] END max_depth=10, min_samples_leaf=10, min_samples_split=5, n_jobs=-1;, score=0.570 total time=   0.1s\n",
      "[CV 1/3] END max_depth=10, min_samples_leaf=10, min_samples_split=10, n_jobs=-1;, score=0.567 total time=   0.1s\n",
      "[CV 2/3] END max_depth=10, min_samples_leaf=10, min_samples_split=10, n_jobs=-1;, score=0.591 total time=   0.1s\n",
      "[CV 3/3] END max_depth=10, min_samples_leaf=10, min_samples_split=10, n_jobs=-1;, score=0.578 total time=   0.2s\n",
      "[CV 1/3] END max_depth=10, min_samples_leaf=10, min_samples_split=20, n_jobs=-1;, score=0.558 total time=   0.1s\n",
      "[CV 2/3] END max_depth=10, min_samples_leaf=10, min_samples_split=20, n_jobs=-1;, score=0.574 total time=   0.1s\n",
      "[CV 3/3] END max_depth=10, min_samples_leaf=10, min_samples_split=20, n_jobs=-1;, score=0.567 total time=   0.1s\n",
      "[CV 1/3] END max_depth=10, min_samples_leaf=20, min_samples_split=2, n_jobs=-1;, score=0.565 total time=   0.1s\n",
      "[CV 2/3] END max_depth=10, min_samples_leaf=20, min_samples_split=2, n_jobs=-1;, score=0.582 total time=   0.1s\n",
      "[CV 3/3] END max_depth=10, min_samples_leaf=20, min_samples_split=2, n_jobs=-1;, score=0.563 total time=   0.1s\n",
      "[CV 1/3] END max_depth=10, min_samples_leaf=20, min_samples_split=5, n_jobs=-1;, score=0.558 total time=   0.1s\n",
      "[CV 2/3] END max_depth=10, min_samples_leaf=20, min_samples_split=5, n_jobs=-1;, score=0.559 total time=   0.1s\n",
      "[CV 3/3] END max_depth=10, min_samples_leaf=20, min_samples_split=5, n_jobs=-1;, score=0.563 total time=   0.1s\n",
      "[CV 1/3] END max_depth=10, min_samples_leaf=20, min_samples_split=10, n_jobs=-1;, score=0.562 total time=   0.1s\n",
      "[CV 2/3] END max_depth=10, min_samples_leaf=20, min_samples_split=10, n_jobs=-1;, score=0.568 total time=   0.1s\n",
      "[CV 3/3] END max_depth=10, min_samples_leaf=20, min_samples_split=10, n_jobs=-1;, score=0.551 total time=   0.1s\n",
      "[CV 1/3] END max_depth=10, min_samples_leaf=20, min_samples_split=20, n_jobs=-1;, score=0.569 total time=   0.1s\n",
      "[CV 2/3] END max_depth=10, min_samples_leaf=20, min_samples_split=20, n_jobs=-1;, score=0.557 total time=   0.1s\n",
      "[CV 3/3] END max_depth=10, min_samples_leaf=20, min_samples_split=20, n_jobs=-1;, score=0.557 total time=   0.1s\n",
      "[CV 1/3] END max_depth=20, min_samples_leaf=1, min_samples_split=2, n_jobs=-1;, score=0.702 total time=   0.1s\n",
      "[CV 2/3] END max_depth=20, min_samples_leaf=1, min_samples_split=2, n_jobs=-1;, score=0.675 total time=   0.1s\n",
      "[CV 3/3] END max_depth=20, min_samples_leaf=1, min_samples_split=2, n_jobs=-1;, score=0.658 total time=   0.1s\n",
      "[CV 1/3] END max_depth=20, min_samples_leaf=1, min_samples_split=5, n_jobs=-1;, score=0.676 total time=   0.1s\n",
      "[CV 2/3] END max_depth=20, min_samples_leaf=1, min_samples_split=5, n_jobs=-1;, score=0.658 total time=   0.1s\n",
      "[CV 3/3] END max_depth=20, min_samples_leaf=1, min_samples_split=5, n_jobs=-1;, score=0.648 total time=   0.1s\n",
      "[CV 1/3] END max_depth=20, min_samples_leaf=1, min_samples_split=10, n_jobs=-1;, score=0.645 total time=   0.1s\n",
      "[CV 2/3] END max_depth=20, min_samples_leaf=1, min_samples_split=10, n_jobs=-1;, score=0.620 total time=   0.1s\n",
      "[CV 3/3] END max_depth=20, min_samples_leaf=1, min_samples_split=10, n_jobs=-1;, score=0.608 total time=   0.1s\n",
      "[CV 1/3] END max_depth=20, min_samples_leaf=1, min_samples_split=20, n_jobs=-1;, score=0.613 total time=   0.1s\n",
      "[CV 2/3] END max_depth=20, min_samples_leaf=1, min_samples_split=20, n_jobs=-1;, score=0.610 total time=   0.1s\n",
      "[CV 3/3] END max_depth=20, min_samples_leaf=1, min_samples_split=20, n_jobs=-1;, score=0.608 total time=   0.1s\n",
      "[CV 1/3] END max_depth=20, min_samples_leaf=2, min_samples_split=2, n_jobs=-1;, score=0.693 total time=   0.1s\n",
      "[CV 2/3] END max_depth=20, min_samples_leaf=2, min_samples_split=2, n_jobs=-1;, score=0.641 total time=   0.1s\n",
      "[CV 3/3] END max_depth=20, min_samples_leaf=2, min_samples_split=2, n_jobs=-1;, score=0.639 total time=   0.1s\n"
     ]
    },
    {
     "name": "stdout",
     "output_type": "stream",
     "text": [
      "[CV 1/3] END max_depth=20, min_samples_leaf=2, min_samples_split=5, n_jobs=-1;, score=0.653 total time=   0.1s\n",
      "[CV 2/3] END max_depth=20, min_samples_leaf=2, min_samples_split=5, n_jobs=-1;, score=0.631 total time=   0.1s\n",
      "[CV 3/3] END max_depth=20, min_samples_leaf=2, min_samples_split=5, n_jobs=-1;, score=0.643 total time=   0.1s\n",
      "[CV 1/3] END max_depth=20, min_samples_leaf=2, min_samples_split=10, n_jobs=-1;, score=0.643 total time=   0.1s\n",
      "[CV 2/3] END max_depth=20, min_samples_leaf=2, min_samples_split=10, n_jobs=-1;, score=0.608 total time=   0.1s\n",
      "[CV 3/3] END max_depth=20, min_samples_leaf=2, min_samples_split=10, n_jobs=-1;, score=0.606 total time=   0.1s\n",
      "[CV 1/3] END max_depth=20, min_samples_leaf=2, min_samples_split=20, n_jobs=-1;, score=0.617 total time=   0.1s\n",
      "[CV 2/3] END max_depth=20, min_samples_leaf=2, min_samples_split=20, n_jobs=-1;, score=0.599 total time=   0.1s\n",
      "[CV 3/3] END max_depth=20, min_samples_leaf=2, min_samples_split=20, n_jobs=-1;, score=0.580 total time=   0.1s\n",
      "[CV 1/3] END max_depth=20, min_samples_leaf=5, min_samples_split=2, n_jobs=-1;, score=0.602 total time=   0.1s\n",
      "[CV 2/3] END max_depth=20, min_samples_leaf=5, min_samples_split=2, n_jobs=-1;, score=0.593 total time=   0.1s\n",
      "[CV 3/3] END max_depth=20, min_samples_leaf=5, min_samples_split=2, n_jobs=-1;, score=0.599 total time=   0.1s\n",
      "[CV 1/3] END max_depth=20, min_samples_leaf=5, min_samples_split=5, n_jobs=-1;, score=0.594 total time=   0.1s\n",
      "[CV 2/3] END max_depth=20, min_samples_leaf=5, min_samples_split=5, n_jobs=-1;, score=0.610 total time=   0.1s\n",
      "[CV 3/3] END max_depth=20, min_samples_leaf=5, min_samples_split=5, n_jobs=-1;, score=0.605 total time=   0.1s\n",
      "[CV 1/3] END max_depth=20, min_samples_leaf=5, min_samples_split=10, n_jobs=-1;, score=0.607 total time=   0.1s\n",
      "[CV 2/3] END max_depth=20, min_samples_leaf=5, min_samples_split=10, n_jobs=-1;, score=0.591 total time=   0.1s\n",
      "[CV 3/3] END max_depth=20, min_samples_leaf=5, min_samples_split=10, n_jobs=-1;, score=0.593 total time=   0.1s\n",
      "[CV 1/3] END max_depth=20, min_samples_leaf=5, min_samples_split=20, n_jobs=-1;, score=0.598 total time=   0.1s\n",
      "[CV 2/3] END max_depth=20, min_samples_leaf=5, min_samples_split=20, n_jobs=-1;, score=0.584 total time=   0.1s\n",
      "[CV 3/3] END max_depth=20, min_samples_leaf=5, min_samples_split=20, n_jobs=-1;, score=0.578 total time=   0.1s\n",
      "[CV 1/3] END max_depth=20, min_samples_leaf=10, min_samples_split=2, n_jobs=-1;, score=0.565 total time=   0.1s\n",
      "[CV 2/3] END max_depth=20, min_samples_leaf=10, min_samples_split=2, n_jobs=-1;, score=0.586 total time=   0.1s\n",
      "[CV 3/3] END max_depth=20, min_samples_leaf=10, min_samples_split=2, n_jobs=-1;, score=0.572 total time=   0.1s\n",
      "[CV 1/3] END max_depth=20, min_samples_leaf=10, min_samples_split=5, n_jobs=-1;, score=0.577 total time=   0.1s\n",
      "[CV 2/3] END max_depth=20, min_samples_leaf=10, min_samples_split=5, n_jobs=-1;, score=0.563 total time=   0.1s\n",
      "[CV 3/3] END max_depth=20, min_samples_leaf=10, min_samples_split=5, n_jobs=-1;, score=0.568 total time=   0.1s\n",
      "[CV 1/3] END max_depth=20, min_samples_leaf=10, min_samples_split=10, n_jobs=-1;, score=0.583 total time=   0.1s\n",
      "[CV 2/3] END max_depth=20, min_samples_leaf=10, min_samples_split=10, n_jobs=-1;, score=0.603 total time=   0.1s\n",
      "[CV 3/3] END max_depth=20, min_samples_leaf=10, min_samples_split=10, n_jobs=-1;, score=0.561 total time=   0.1s\n",
      "[CV 1/3] END max_depth=20, min_samples_leaf=10, min_samples_split=20, n_jobs=-1;, score=0.583 total time=   0.1s\n",
      "[CV 2/3] END max_depth=20, min_samples_leaf=10, min_samples_split=20, n_jobs=-1;, score=0.591 total time=   0.1s\n",
      "[CV 3/3] END max_depth=20, min_samples_leaf=10, min_samples_split=20, n_jobs=-1;, score=0.561 total time=   0.1s\n",
      "[CV 1/3] END max_depth=20, min_samples_leaf=20, min_samples_split=2, n_jobs=-1;, score=0.550 total time=   0.1s\n",
      "[CV 2/3] END max_depth=20, min_samples_leaf=20, min_samples_split=2, n_jobs=-1;, score=0.557 total time=   0.1s\n",
      "[CV 3/3] END max_depth=20, min_samples_leaf=20, min_samples_split=2, n_jobs=-1;, score=0.572 total time=   0.1s\n",
      "[CV 1/3] END max_depth=20, min_samples_leaf=20, min_samples_split=5, n_jobs=-1;, score=0.552 total time=   0.1s\n",
      "[CV 2/3] END max_depth=20, min_samples_leaf=20, min_samples_split=5, n_jobs=-1;, score=0.572 total time=   0.1s\n",
      "[CV 3/3] END max_depth=20, min_samples_leaf=20, min_samples_split=5, n_jobs=-1;, score=0.555 total time=   0.1s\n",
      "[CV 1/3] END max_depth=20, min_samples_leaf=20, min_samples_split=10, n_jobs=-1;, score=0.556 total time=   0.1s\n",
      "[CV 2/3] END max_depth=20, min_samples_leaf=20, min_samples_split=10, n_jobs=-1;, score=0.570 total time=   0.1s\n",
      "[CV 3/3] END max_depth=20, min_samples_leaf=20, min_samples_split=10, n_jobs=-1;, score=0.559 total time=   0.1s\n",
      "[CV 1/3] END max_depth=20, min_samples_leaf=20, min_samples_split=20, n_jobs=-1;, score=0.560 total time=   0.1s\n",
      "[CV 2/3] END max_depth=20, min_samples_leaf=20, min_samples_split=20, n_jobs=-1;, score=0.565 total time=   0.1s\n",
      "[CV 3/3] END max_depth=20, min_samples_leaf=20, min_samples_split=20, n_jobs=-1;, score=0.548 total time=   0.1s\n",
      "[CV 1/3] END max_depth=30, min_samples_leaf=1, min_samples_split=2, n_jobs=-1;, score=0.698 total time=   0.1s\n",
      "[CV 2/3] END max_depth=30, min_samples_leaf=1, min_samples_split=2, n_jobs=-1;, score=0.681 total time=   0.1s\n",
      "[CV 3/3] END max_depth=30, min_samples_leaf=1, min_samples_split=2, n_jobs=-1;, score=0.654 total time=   0.1s\n",
      "[CV 1/3] END max_depth=30, min_samples_leaf=1, min_samples_split=5, n_jobs=-1;, score=0.687 total time=   0.1s\n",
      "[CV 2/3] END max_depth=30, min_samples_leaf=1, min_samples_split=5, n_jobs=-1;, score=0.652 total time=   0.1s\n",
      "[CV 3/3] END max_depth=30, min_samples_leaf=1, min_samples_split=5, n_jobs=-1;, score=0.650 total time=   0.1s\n",
      "[CV 1/3] END max_depth=30, min_samples_leaf=1, min_samples_split=10, n_jobs=-1;, score=0.649 total time=   0.1s\n",
      "[CV 2/3] END max_depth=30, min_samples_leaf=1, min_samples_split=10, n_jobs=-1;, score=0.618 total time=   0.1s\n",
      "[CV 3/3] END max_depth=30, min_samples_leaf=1, min_samples_split=10, n_jobs=-1;, score=0.633 total time=   0.1s\n",
      "[CV 1/3] END max_depth=30, min_samples_leaf=1, min_samples_split=20, n_jobs=-1;, score=0.609 total time=   0.1s\n",
      "[CV 2/3] END max_depth=30, min_samples_leaf=1, min_samples_split=20, n_jobs=-1;, score=0.606 total time=   0.1s\n",
      "[CV 3/3] END max_depth=30, min_samples_leaf=1, min_samples_split=20, n_jobs=-1;, score=0.593 total time=   0.1s\n",
      "[CV 1/3] END max_depth=30, min_samples_leaf=2, min_samples_split=2, n_jobs=-1;, score=0.683 total time=   0.1s\n",
      "[CV 2/3] END max_depth=30, min_samples_leaf=2, min_samples_split=2, n_jobs=-1;, score=0.648 total time=   0.1s\n",
      "[CV 3/3] END max_depth=30, min_samples_leaf=2, min_samples_split=2, n_jobs=-1;, score=0.635 total time=   0.1s\n",
      "[CV 1/3] END max_depth=30, min_samples_leaf=2, min_samples_split=5, n_jobs=-1;, score=0.681 total time=   0.1s\n",
      "[CV 2/3] END max_depth=30, min_samples_leaf=2, min_samples_split=5, n_jobs=-1;, score=0.646 total time=   0.1s\n",
      "[CV 3/3] END max_depth=30, min_samples_leaf=2, min_samples_split=5, n_jobs=-1;, score=0.631 total time=   0.1s\n",
      "[CV 1/3] END max_depth=30, min_samples_leaf=2, min_samples_split=10, n_jobs=-1;, score=0.655 total time=   0.1s\n",
      "[CV 2/3] END max_depth=30, min_samples_leaf=2, min_samples_split=10, n_jobs=-1;, score=0.633 total time=   0.1s\n",
      "[CV 3/3] END max_depth=30, min_samples_leaf=2, min_samples_split=10, n_jobs=-1;, score=0.616 total time=   0.1s\n",
      "[CV 1/3] END max_depth=30, min_samples_leaf=2, min_samples_split=20, n_jobs=-1;, score=0.592 total time=   0.1s\n",
      "[CV 2/3] END max_depth=30, min_samples_leaf=2, min_samples_split=20, n_jobs=-1;, score=0.595 total time=   0.1s\n",
      "[CV 3/3] END max_depth=30, min_samples_leaf=2, min_samples_split=20, n_jobs=-1;, score=0.582 total time=   0.1s\n",
      "[CV 1/3] END max_depth=30, min_samples_leaf=5, min_samples_split=2, n_jobs=-1;, score=0.603 total time=   0.1s\n",
      "[CV 2/3] END max_depth=30, min_samples_leaf=5, min_samples_split=2, n_jobs=-1;, score=0.603 total time=   0.1s\n",
      "[CV 3/3] END max_depth=30, min_samples_leaf=5, min_samples_split=2, n_jobs=-1;, score=0.587 total time=   0.1s\n",
      "[CV 1/3] END max_depth=30, min_samples_leaf=5, min_samples_split=5, n_jobs=-1;, score=0.590 total time=   0.1s\n",
      "[CV 2/3] END max_depth=30, min_samples_leaf=5, min_samples_split=5, n_jobs=-1;, score=0.587 total time=   0.1s\n"
     ]
    },
    {
     "name": "stdout",
     "output_type": "stream",
     "text": [
      "[CV 3/3] END max_depth=30, min_samples_leaf=5, min_samples_split=5, n_jobs=-1;, score=0.601 total time=   0.1s\n",
      "[CV 1/3] END max_depth=30, min_samples_leaf=5, min_samples_split=10, n_jobs=-1;, score=0.603 total time=   0.1s\n",
      "[CV 2/3] END max_depth=30, min_samples_leaf=5, min_samples_split=10, n_jobs=-1;, score=0.587 total time=   0.1s\n",
      "[CV 3/3] END max_depth=30, min_samples_leaf=5, min_samples_split=10, n_jobs=-1;, score=0.586 total time=   0.1s\n",
      "[CV 1/3] END max_depth=30, min_samples_leaf=5, min_samples_split=20, n_jobs=-1;, score=0.577 total time=   0.1s\n",
      "[CV 2/3] END max_depth=30, min_samples_leaf=5, min_samples_split=20, n_jobs=-1;, score=0.584 total time=   0.1s\n",
      "[CV 3/3] END max_depth=30, min_samples_leaf=5, min_samples_split=20, n_jobs=-1;, score=0.582 total time=   0.1s\n",
      "[CV 1/3] END max_depth=30, min_samples_leaf=10, min_samples_split=2, n_jobs=-1;, score=0.583 total time=   0.1s\n",
      "[CV 2/3] END max_depth=30, min_samples_leaf=10, min_samples_split=2, n_jobs=-1;, score=0.591 total time=   0.1s\n",
      "[CV 3/3] END max_depth=30, min_samples_leaf=10, min_samples_split=2, n_jobs=-1;, score=0.567 total time=   0.1s\n",
      "[CV 1/3] END max_depth=30, min_samples_leaf=10, min_samples_split=5, n_jobs=-1;, score=0.577 total time=   0.1s\n",
      "[CV 2/3] END max_depth=30, min_samples_leaf=10, min_samples_split=5, n_jobs=-1;, score=0.567 total time=   0.1s\n",
      "[CV 3/3] END max_depth=30, min_samples_leaf=10, min_samples_split=5, n_jobs=-1;, score=0.578 total time=   0.1s\n",
      "[CV 1/3] END max_depth=30, min_samples_leaf=10, min_samples_split=10, n_jobs=-1;, score=0.564 total time=   0.1s\n",
      "[CV 2/3] END max_depth=30, min_samples_leaf=10, min_samples_split=10, n_jobs=-1;, score=0.572 total time=   0.1s\n",
      "[CV 3/3] END max_depth=30, min_samples_leaf=10, min_samples_split=10, n_jobs=-1;, score=0.565 total time=   0.1s\n",
      "[CV 1/3] END max_depth=30, min_samples_leaf=10, min_samples_split=20, n_jobs=-1;, score=0.577 total time=   0.1s\n",
      "[CV 2/3] END max_depth=30, min_samples_leaf=10, min_samples_split=20, n_jobs=-1;, score=0.574 total time=   0.1s\n",
      "[CV 3/3] END max_depth=30, min_samples_leaf=10, min_samples_split=20, n_jobs=-1;, score=0.572 total time=   0.1s\n",
      "[CV 1/3] END max_depth=30, min_samples_leaf=20, min_samples_split=2, n_jobs=-1;, score=0.546 total time=   0.1s\n",
      "[CV 2/3] END max_depth=30, min_samples_leaf=20, min_samples_split=2, n_jobs=-1;, score=0.565 total time=   0.1s\n",
      "[CV 3/3] END max_depth=30, min_samples_leaf=20, min_samples_split=2, n_jobs=-1;, score=0.551 total time=   0.1s\n",
      "[CV 1/3] END max_depth=30, min_samples_leaf=20, min_samples_split=5, n_jobs=-1;, score=0.554 total time=   0.1s\n",
      "[CV 2/3] END max_depth=30, min_samples_leaf=20, min_samples_split=5, n_jobs=-1;, score=0.570 total time=   0.1s\n",
      "[CV 3/3] END max_depth=30, min_samples_leaf=20, min_samples_split=5, n_jobs=-1;, score=0.563 total time=   0.1s\n",
      "[CV 1/3] END max_depth=30, min_samples_leaf=20, min_samples_split=10, n_jobs=-1;, score=0.564 total time=   0.1s\n",
      "[CV 2/3] END max_depth=30, min_samples_leaf=20, min_samples_split=10, n_jobs=-1;, score=0.559 total time=   0.1s\n",
      "[CV 3/3] END max_depth=30, min_samples_leaf=20, min_samples_split=10, n_jobs=-1;, score=0.555 total time=   0.1s\n",
      "[CV 1/3] END max_depth=30, min_samples_leaf=20, min_samples_split=20, n_jobs=-1;, score=0.558 total time=   0.1s\n",
      "[CV 2/3] END max_depth=30, min_samples_leaf=20, min_samples_split=20, n_jobs=-1;, score=0.578 total time=   0.1s\n",
      "[CV 3/3] END max_depth=30, min_samples_leaf=20, min_samples_split=20, n_jobs=-1;, score=0.559 total time=   0.1s\n",
      "[CV 1/3] END max_depth=50, min_samples_leaf=1, min_samples_split=2, n_jobs=-1;, score=0.694 total time=   0.1s\n",
      "[CV 2/3] END max_depth=50, min_samples_leaf=1, min_samples_split=2, n_jobs=-1;, score=0.681 total time=   0.1s\n",
      "[CV 3/3] END max_depth=50, min_samples_leaf=1, min_samples_split=2, n_jobs=-1;, score=0.660 total time=   0.1s\n",
      "[CV 1/3] END max_depth=50, min_samples_leaf=1, min_samples_split=5, n_jobs=-1;, score=0.683 total time=   0.1s\n",
      "[CV 2/3] END max_depth=50, min_samples_leaf=1, min_samples_split=5, n_jobs=-1;, score=0.665 total time=   0.1s\n",
      "[CV 3/3] END max_depth=50, min_samples_leaf=1, min_samples_split=5, n_jobs=-1;, score=0.644 total time=   0.1s\n",
      "[CV 1/3] END max_depth=50, min_samples_leaf=1, min_samples_split=10, n_jobs=-1;, score=0.660 total time=   0.1s\n",
      "[CV 2/3] END max_depth=50, min_samples_leaf=1, min_samples_split=10, n_jobs=-1;, score=0.616 total time=   0.1s\n",
      "[CV 3/3] END max_depth=50, min_samples_leaf=1, min_samples_split=10, n_jobs=-1;, score=0.637 total time=   0.1s\n",
      "[CV 1/3] END max_depth=50, min_samples_leaf=1, min_samples_split=20, n_jobs=-1;, score=0.617 total time=   0.1s\n",
      "[CV 2/3] END max_depth=50, min_samples_leaf=1, min_samples_split=20, n_jobs=-1;, score=0.606 total time=   0.1s\n",
      "[CV 3/3] END max_depth=50, min_samples_leaf=1, min_samples_split=20, n_jobs=-1;, score=0.587 total time=   0.1s\n",
      "[CV 1/3] END max_depth=50, min_samples_leaf=2, min_samples_split=2, n_jobs=-1;, score=0.681 total time=   0.1s\n",
      "[CV 2/3] END max_depth=50, min_samples_leaf=2, min_samples_split=2, n_jobs=-1;, score=0.620 total time=   0.1s\n",
      "[CV 3/3] END max_depth=50, min_samples_leaf=2, min_samples_split=2, n_jobs=-1;, score=0.643 total time=   0.1s\n",
      "[CV 1/3] END max_depth=50, min_samples_leaf=2, min_samples_split=5, n_jobs=-1;, score=0.662 total time=   0.1s\n",
      "[CV 2/3] END max_depth=50, min_samples_leaf=2, min_samples_split=5, n_jobs=-1;, score=0.650 total time=   0.1s\n",
      "[CV 3/3] END max_depth=50, min_samples_leaf=2, min_samples_split=5, n_jobs=-1;, score=0.627 total time=   0.1s\n",
      "[CV 1/3] END max_depth=50, min_samples_leaf=2, min_samples_split=10, n_jobs=-1;, score=0.636 total time=   0.1s\n",
      "[CV 2/3] END max_depth=50, min_samples_leaf=2, min_samples_split=10, n_jobs=-1;, score=0.614 total time=   0.1s\n",
      "[CV 3/3] END max_depth=50, min_samples_leaf=2, min_samples_split=10, n_jobs=-1;, score=0.620 total time=   0.1s\n",
      "[CV 1/3] END max_depth=50, min_samples_leaf=2, min_samples_split=20, n_jobs=-1;, score=0.600 total time=   0.1s\n",
      "[CV 2/3] END max_depth=50, min_samples_leaf=2, min_samples_split=20, n_jobs=-1;, score=0.597 total time=   0.1s\n",
      "[CV 3/3] END max_depth=50, min_samples_leaf=2, min_samples_split=20, n_jobs=-1;, score=0.597 total time=   0.1s\n",
      "[CV 1/3] END max_depth=50, min_samples_leaf=5, min_samples_split=2, n_jobs=-1;, score=0.598 total time=   0.1s\n",
      "[CV 2/3] END max_depth=50, min_samples_leaf=5, min_samples_split=2, n_jobs=-1;, score=0.605 total time=   0.1s\n",
      "[CV 3/3] END max_depth=50, min_samples_leaf=5, min_samples_split=2, n_jobs=-1;, score=0.586 total time=   0.1s\n",
      "[CV 1/3] END max_depth=50, min_samples_leaf=5, min_samples_split=5, n_jobs=-1;, score=0.613 total time=   0.1s\n",
      "[CV 2/3] END max_depth=50, min_samples_leaf=5, min_samples_split=5, n_jobs=-1;, score=0.589 total time=   0.1s\n",
      "[CV 3/3] END max_depth=50, min_samples_leaf=5, min_samples_split=5, n_jobs=-1;, score=0.584 total time=   0.1s\n",
      "[CV 1/3] END max_depth=50, min_samples_leaf=5, min_samples_split=10, n_jobs=-1;, score=0.603 total time=   0.1s\n",
      "[CV 2/3] END max_depth=50, min_samples_leaf=5, min_samples_split=10, n_jobs=-1;, score=0.605 total time=   0.1s\n",
      "[CV 3/3] END max_depth=50, min_samples_leaf=5, min_samples_split=10, n_jobs=-1;, score=0.591 total time=   0.1s\n",
      "[CV 1/3] END max_depth=50, min_samples_leaf=5, min_samples_split=20, n_jobs=-1;, score=0.583 total time=   0.1s\n",
      "[CV 2/3] END max_depth=50, min_samples_leaf=5, min_samples_split=20, n_jobs=-1;, score=0.576 total time=   0.1s\n",
      "[CV 3/3] END max_depth=50, min_samples_leaf=5, min_samples_split=20, n_jobs=-1;, score=0.584 total time=   0.1s\n",
      "[CV 1/3] END max_depth=50, min_samples_leaf=10, min_samples_split=2, n_jobs=-1;, score=0.579 total time=   0.1s\n",
      "[CV 2/3] END max_depth=50, min_samples_leaf=10, min_samples_split=2, n_jobs=-1;, score=0.578 total time=   0.1s\n",
      "[CV 3/3] END max_depth=50, min_samples_leaf=10, min_samples_split=2, n_jobs=-1;, score=0.570 total time=   0.1s\n",
      "[CV 1/3] END max_depth=50, min_samples_leaf=10, min_samples_split=5, n_jobs=-1;, score=0.575 total time=   0.1s\n",
      "[CV 2/3] END max_depth=50, min_samples_leaf=10, min_samples_split=5, n_jobs=-1;, score=0.586 total time=   0.1s\n",
      "[CV 3/3] END max_depth=50, min_samples_leaf=10, min_samples_split=5, n_jobs=-1;, score=0.570 total time=   0.1s\n",
      "[CV 1/3] END max_depth=50, min_samples_leaf=10, min_samples_split=10, n_jobs=-1;, score=0.581 total time=   0.1s\n"
     ]
    },
    {
     "name": "stdout",
     "output_type": "stream",
     "text": [
      "[CV 2/3] END max_depth=50, min_samples_leaf=10, min_samples_split=10, n_jobs=-1;, score=0.591 total time=   0.1s\n",
      "[CV 3/3] END max_depth=50, min_samples_leaf=10, min_samples_split=10, n_jobs=-1;, score=0.572 total time=   0.1s\n",
      "[CV 1/3] END max_depth=50, min_samples_leaf=10, min_samples_split=20, n_jobs=-1;, score=0.573 total time=   0.1s\n",
      "[CV 2/3] END max_depth=50, min_samples_leaf=10, min_samples_split=20, n_jobs=-1;, score=0.582 total time=   0.1s\n",
      "[CV 3/3] END max_depth=50, min_samples_leaf=10, min_samples_split=20, n_jobs=-1;, score=0.578 total time=   0.1s\n",
      "[CV 1/3] END max_depth=50, min_samples_leaf=20, min_samples_split=2, n_jobs=-1;, score=0.556 total time=   0.1s\n",
      "[CV 2/3] END max_depth=50, min_samples_leaf=20, min_samples_split=2, n_jobs=-1;, score=0.574 total time=   0.1s\n",
      "[CV 3/3] END max_depth=50, min_samples_leaf=20, min_samples_split=2, n_jobs=-1;, score=0.551 total time=   0.1s\n",
      "[CV 1/3] END max_depth=50, min_samples_leaf=20, min_samples_split=5, n_jobs=-1;, score=0.564 total time=   0.1s\n",
      "[CV 2/3] END max_depth=50, min_samples_leaf=20, min_samples_split=5, n_jobs=-1;, score=0.563 total time=   0.1s\n",
      "[CV 3/3] END max_depth=50, min_samples_leaf=20, min_samples_split=5, n_jobs=-1;, score=0.557 total time=   0.1s\n",
      "[CV 1/3] END max_depth=50, min_samples_leaf=20, min_samples_split=10, n_jobs=-1;, score=0.567 total time=   0.1s\n",
      "[CV 2/3] END max_depth=50, min_samples_leaf=20, min_samples_split=10, n_jobs=-1;, score=0.553 total time=   0.1s\n",
      "[CV 3/3] END max_depth=50, min_samples_leaf=20, min_samples_split=10, n_jobs=-1;, score=0.559 total time=   0.1s\n",
      "[CV 1/3] END max_depth=50, min_samples_leaf=20, min_samples_split=20, n_jobs=-1;, score=0.556 total time=   0.1s\n",
      "[CV 2/3] END max_depth=50, min_samples_leaf=20, min_samples_split=20, n_jobs=-1;, score=0.557 total time=   0.1s\n",
      "[CV 3/3] END max_depth=50, min_samples_leaf=20, min_samples_split=20, n_jobs=-1;, score=0.568 total time=   0.1s\n",
      "[CV 1/3] END max_depth=None, min_samples_leaf=1, min_samples_split=2, n_jobs=-1;, score=0.689 total time=   0.1s\n",
      "[CV 2/3] END max_depth=None, min_samples_leaf=1, min_samples_split=2, n_jobs=-1;, score=0.671 total time=   0.1s\n",
      "[CV 3/3] END max_depth=None, min_samples_leaf=1, min_samples_split=2, n_jobs=-1;, score=0.660 total time=   0.1s\n",
      "[CV 1/3] END max_depth=None, min_samples_leaf=1, min_samples_split=5, n_jobs=-1;, score=0.704 total time=   0.1s\n",
      "[CV 2/3] END max_depth=None, min_samples_leaf=1, min_samples_split=5, n_jobs=-1;, score=0.652 total time=   0.1s\n",
      "[CV 3/3] END max_depth=None, min_samples_leaf=1, min_samples_split=5, n_jobs=-1;, score=0.644 total time=   0.1s\n",
      "[CV 1/3] END max_depth=None, min_samples_leaf=1, min_samples_split=10, n_jobs=-1;, score=0.647 total time=   0.1s\n",
      "[CV 2/3] END max_depth=None, min_samples_leaf=1, min_samples_split=10, n_jobs=-1;, score=0.620 total time=   0.1s\n",
      "[CV 3/3] END max_depth=None, min_samples_leaf=1, min_samples_split=10, n_jobs=-1;, score=0.616 total time=   0.1s\n",
      "[CV 1/3] END max_depth=None, min_samples_leaf=1, min_samples_split=20, n_jobs=-1;, score=0.603 total time=   0.1s\n",
      "[CV 2/3] END max_depth=None, min_samples_leaf=1, min_samples_split=20, n_jobs=-1;, score=0.605 total time=   0.1s\n",
      "[CV 3/3] END max_depth=None, min_samples_leaf=1, min_samples_split=20, n_jobs=-1;, score=0.593 total time=   0.1s\n",
      "[CV 1/3] END max_depth=None, min_samples_leaf=2, min_samples_split=2, n_jobs=-1;, score=0.698 total time=   0.1s\n",
      "[CV 2/3] END max_depth=None, min_samples_leaf=2, min_samples_split=2, n_jobs=-1;, score=0.635 total time=   0.1s\n",
      "[CV 3/3] END max_depth=None, min_samples_leaf=2, min_samples_split=2, n_jobs=-1;, score=0.635 total time=   0.1s\n",
      "[CV 1/3] END max_depth=None, min_samples_leaf=2, min_samples_split=5, n_jobs=-1;, score=0.668 total time=   0.1s\n",
      "[CV 2/3] END max_depth=None, min_samples_leaf=2, min_samples_split=5, n_jobs=-1;, score=0.622 total time=   0.1s\n",
      "[CV 3/3] END max_depth=None, min_samples_leaf=2, min_samples_split=5, n_jobs=-1;, score=0.639 total time=   0.1s\n",
      "[CV 1/3] END max_depth=None, min_samples_leaf=2, min_samples_split=10, n_jobs=-1;, score=0.630 total time=   0.1s\n",
      "[CV 2/3] END max_depth=None, min_samples_leaf=2, min_samples_split=10, n_jobs=-1;, score=0.624 total time=   0.1s\n",
      "[CV 3/3] END max_depth=None, min_samples_leaf=2, min_samples_split=10, n_jobs=-1;, score=0.616 total time=   0.1s\n",
      "[CV 1/3] END max_depth=None, min_samples_leaf=2, min_samples_split=20, n_jobs=-1;, score=0.592 total time=   0.1s\n",
      "[CV 2/3] END max_depth=None, min_samples_leaf=2, min_samples_split=20, n_jobs=-1;, score=0.599 total time=   0.1s\n",
      "[CV 3/3] END max_depth=None, min_samples_leaf=2, min_samples_split=20, n_jobs=-1;, score=0.580 total time=   0.1s\n",
      "[CV 1/3] END max_depth=None, min_samples_leaf=5, min_samples_split=2, n_jobs=-1;, score=0.596 total time=   0.1s\n",
      "[CV 2/3] END max_depth=None, min_samples_leaf=5, min_samples_split=2, n_jobs=-1;, score=0.603 total time=   0.1s\n",
      "[CV 3/3] END max_depth=None, min_samples_leaf=5, min_samples_split=2, n_jobs=-1;, score=0.589 total time=   0.1s\n",
      "[CV 1/3] END max_depth=None, min_samples_leaf=5, min_samples_split=5, n_jobs=-1;, score=0.598 total time=   0.1s\n",
      "[CV 2/3] END max_depth=None, min_samples_leaf=5, min_samples_split=5, n_jobs=-1;, score=0.584 total time=   0.1s\n",
      "[CV 3/3] END max_depth=None, min_samples_leaf=5, min_samples_split=5, n_jobs=-1;, score=0.603 total time=   0.1s\n",
      "[CV 1/3] END max_depth=None, min_samples_leaf=5, min_samples_split=10, n_jobs=-1;, score=0.613 total time=   0.1s\n",
      "[CV 2/3] END max_depth=None, min_samples_leaf=5, min_samples_split=10, n_jobs=-1;, score=0.593 total time=   0.1s\n",
      "[CV 3/3] END max_depth=None, min_samples_leaf=5, min_samples_split=10, n_jobs=-1;, score=0.597 total time=   0.1s\n",
      "[CV 1/3] END max_depth=None, min_samples_leaf=5, min_samples_split=20, n_jobs=-1;, score=0.584 total time=   0.1s\n",
      "[CV 2/3] END max_depth=None, min_samples_leaf=5, min_samples_split=20, n_jobs=-1;, score=0.587 total time=   0.1s\n",
      "[CV 3/3] END max_depth=None, min_samples_leaf=5, min_samples_split=20, n_jobs=-1;, score=0.580 total time=   0.1s\n",
      "[CV 1/3] END max_depth=None, min_samples_leaf=10, min_samples_split=2, n_jobs=-1;, score=0.575 total time=   0.1s\n",
      "[CV 2/3] END max_depth=None, min_samples_leaf=10, min_samples_split=2, n_jobs=-1;, score=0.591 total time=   0.1s\n",
      "[CV 3/3] END max_depth=None, min_samples_leaf=10, min_samples_split=2, n_jobs=-1;, score=0.568 total time=   0.1s\n",
      "[CV 1/3] END max_depth=None, min_samples_leaf=10, min_samples_split=5, n_jobs=-1;, score=0.575 total time=   0.1s\n",
      "[CV 2/3] END max_depth=None, min_samples_leaf=10, min_samples_split=5, n_jobs=-1;, score=0.553 total time=   0.1s\n",
      "[CV 3/3] END max_depth=None, min_samples_leaf=10, min_samples_split=5, n_jobs=-1;, score=0.568 total time=   0.1s\n",
      "[CV 1/3] END max_depth=None, min_samples_leaf=10, min_samples_split=10, n_jobs=-1;, score=0.564 total time=   0.1s\n",
      "[CV 2/3] END max_depth=None, min_samples_leaf=10, min_samples_split=10, n_jobs=-1;, score=0.574 total time=   0.1s\n",
      "[CV 3/3] END max_depth=None, min_samples_leaf=10, min_samples_split=10, n_jobs=-1;, score=0.557 total time=   0.1s\n",
      "[CV 1/3] END max_depth=None, min_samples_leaf=10, min_samples_split=20, n_jobs=-1;, score=0.579 total time=   0.1s\n",
      "[CV 2/3] END max_depth=None, min_samples_leaf=10, min_samples_split=20, n_jobs=-1;, score=0.548 total time=   0.1s\n",
      "[CV 3/3] END max_depth=None, min_samples_leaf=10, min_samples_split=20, n_jobs=-1;, score=0.567 total time=   0.1s\n",
      "[CV 1/3] END max_depth=None, min_samples_leaf=20, min_samples_split=2, n_jobs=-1;, score=0.556 total time=   0.1s\n",
      "[CV 2/3] END max_depth=None, min_samples_leaf=20, min_samples_split=2, n_jobs=-1;, score=0.565 total time=   0.1s\n",
      "[CV 3/3] END max_depth=None, min_samples_leaf=20, min_samples_split=2, n_jobs=-1;, score=0.559 total time=   0.1s\n",
      "[CV 1/3] END max_depth=None, min_samples_leaf=20, min_samples_split=5, n_jobs=-1;, score=0.562 total time=   0.1s\n",
      "[CV 2/3] END max_depth=None, min_samples_leaf=20, min_samples_split=5, n_jobs=-1;, score=0.578 total time=   0.1s\n",
      "[CV 3/3] END max_depth=None, min_samples_leaf=20, min_samples_split=5, n_jobs=-1;, score=0.561 total time=   0.1s\n",
      "[CV 1/3] END max_depth=None, min_samples_leaf=20, min_samples_split=10, n_jobs=-1;, score=0.569 total time=   0.1s\n",
      "[CV 2/3] END max_depth=None, min_samples_leaf=20, min_samples_split=10, n_jobs=-1;, score=0.567 total time=   0.1s\n",
      "[CV 3/3] END max_depth=None, min_samples_leaf=20, min_samples_split=10, n_jobs=-1;, score=0.551 total time=   0.1s\n",
      "[CV 1/3] END max_depth=None, min_samples_leaf=20, min_samples_split=20, n_jobs=-1;, score=0.569 total time=   0.1s\n"
     ]
    },
    {
     "name": "stdout",
     "output_type": "stream",
     "text": [
      "[CV 2/3] END max_depth=None, min_samples_leaf=20, min_samples_split=20, n_jobs=-1;, score=0.576 total time=   0.1s\n",
      "[CV 3/3] END max_depth=None, min_samples_leaf=20, min_samples_split=20, n_jobs=-1;, score=0.551 total time=   0.1s\n"
     ]
    }
   ],
   "source": [
    "grid = {\n",
    "    'max_depth' : [10, 20, 30, 50, None],\n",
    "    'min_samples_split' : [2, 5, 10, 20],\n",
    "    'min_samples_leaf' : [1, 2, 5, 10, 20],\n",
    "    'n_jobs' : [-1]\n",
    "}\n",
    "clf3 = GridSearchCV(RandomForestClassifier(), grid, cv = 3, verbose = 3).fit(X_train, y_train)"
   ]
  },
  {
   "cell_type": "code",
   "execution_count": 189,
   "id": "e2f97d30",
   "metadata": {},
   "outputs": [
    {
     "data": {
      "image/png": "[encoded data removed]",
      "text/plain": [
       "<Figure size 432x288 with 1 Axes>"
      ]
     },
     "metadata": {
      "needs_background": "light"
     },
     "output_type": "display_data"
    }
   ],
   "source": [
    "plt.boxplot(pd.DataFrame(clf3.cv_results_).filter(regex = 'test_score').iloc[:, :3])\n",
    "plt.show()"
   ]
  },
  {
   "cell_type": "code",
   "execution_count": 190,
   "id": "a249b66c",
   "metadata": {},
   "outputs": [
    {
     "data": {
      "text/plain": [
       "{'max_depth': 50, 'min_samples_leaf': 1, 'min_samples_split': 2, 'n_jobs': -1}"
      ]
     },
     "execution_count": 190,
     "metadata": {},
     "output_type": "execute_result"
    }
   ],
   "source": [
    "clf3.best_params_"
   ]
  },
  {
   "cell_type": "code",
   "execution_count": 191,
   "id": "95d4a574",
   "metadata": {},
   "outputs": [
    {
     "data": {
      "text/plain": [
       "0.769620253164557"
      ]
     },
     "execution_count": 191,
     "metadata": {},
     "output_type": "execute_result"
    }
   ],
   "source": [
    "clf4 = RandomForestClassifier(**clf3.best_params_).fit(X_train, y_train)\n",
    "clf4.score(X_test, y_test)"
   ]
  },
  {
   "cell_type": "code",
   "execution_count": 201,
   "id": "beb43566",
   "metadata": {},
   "outputs": [],
   "source": [
    "np.random.seed(10)\n",
    "scaler = StandardScaler().fit(Xp)\n",
    "\n",
    "poly = PolynomialFeatures(degree = 2, interaction_only=True, include_bias = False)\n",
    "X_s = poly.fit_transform(Xp)\n",
    "X_s = StandardScaler().fit_transform(X_s)\n",
    "\n",
    "size = np.min(np.unique(y[y != 'D'], return_counts = True)[1])\n",
    "W = np.random.choice(y.index[y == 'W'], size = size)\n",
    "L = np.random.choice(y.index[y == 'L'], size = size)\n",
    "\n",
    "idx = [W, D, L]\n",
    "new_idx = np.concatenate(idx)\n",
    "X_i = X_s[new_idx]\n",
    "y_i = y[new_idx]\n",
    "\n",
    "weights = {}\n",
    "for i, class_ in enumerate(['W', 'L']):\n",
    "    weights[class_] = y[y == class_].shape[0]/len(idx[i])\n",
    "X_train_, X_test_, y_train_, y_test_ = train_test_split(X_i, y_i, test_size = 0.2, stratify = y_i)"
   ]
  },
  {
   "cell_type": "code",
   "execution_count": 202,
   "id": "7dabe45e",
   "metadata": {},
   "outputs": [],
   "source": [
    "clf5 = RandomForestClassifier().fit(X_train_, y_train_)"
   ]
  },
  {
   "cell_type": "code",
   "execution_count": 203,
   "id": "a4f97c03",
   "metadata": {},
   "outputs": [
    {
     "name": "stdout",
     "output_type": "stream",
     "text": [
      "1.0\n",
      "0.7544303797468355\n"
     ]
    }
   ],
   "source": [
    "print(clf5.score(X_train_, y_train_))\n",
    "print(clf5.score(X_test_, y_test_))"
   ]
  },
  {
   "cell_type": "code",
   "execution_count": 204,
   "id": "0d19ef78",
   "metadata": {},
   "outputs": [],
   "source": [
    "r2 = permutation_importance(clf5, X_test_, y_test_, n_repeats = 30, random_state = 0)"
   ]
  },
  {
   "cell_type": "code",
   "execution_count": 210,
   "id": "e68edf66",
   "metadata": {},
   "outputs": [
    {
     "name": "stdout",
     "output_type": "stream",
     "text": [
      "home_elo\t\t0.053 +/- 0.011\n",
      "away_elo\t\t0.008 +/- 0.009\n",
      "home_fouls\t\t0.007 +/- 0.004\n",
      "home_elo away_elo\t\t0.003 +/- 0.006\n",
      "away_team_card_color_y away_elo\t\t0.001 +/- 0.007\n",
      "away_team_card_color_y2 home_fouls\t\t0.0 +/- 0.001\n",
      "home_team_card_color_r away_elo\t\t0.0 +/- 0.001\n",
      "home_team_card_color_r\t\t0.0 +/- 0.001\n",
      "away_team_card_color_r away_fouls\t\t0.0 +/- 0.001\n",
      "away_team_card_color_y2 away_elo\t\t0.0 +/- 0.001\n",
      "away_team_card_color_y away_team_card_color_y2\t\t0.0 +/- 0.001\n",
      "home_team_card_color_y2 away_team_card_color_y2\t\t0.0 +/- 0.0\n",
      "away_team_card_color_y2\t\t0.0 +/- 0.0\n",
      "home_team_card_color_y2 home_team_card_color_r\t\t0.0 +/- 0.0\n",
      "home_team_card_color_y2 away_team_card_color_r\t\t0.0 +/- 0.0\n",
      "home_team_card_color_y2\t\t0.0 +/- 0.0\n",
      "home_team_card_color_y2 home_fouls\t\t0.0 +/- 0.0\n",
      "home_team_card_color_y away_team_card_color_y2\t\t0.0 +/- 0.0\n",
      "away_team_card_color_y2 home_team_card_color_r\t\t0.0 +/- 0.0\n",
      "away_team_card_color_y2 away_team_card_color_r\t\t0.0 +/- 0.0\n",
      "away_team_card_color_y2 home_elo\t\t0.0 +/- 0.001\n",
      "away_team_card_color_y home_team_card_color_y2\t\t0.0 +/- 0.0\n",
      "away_team_card_color_y away_team_card_color_r\t\t0.0 +/- 0.001\n",
      "away_team_card_color_y2 away_fouls\t\t0.0 +/- 0.0\n",
      "home_team_card_color_r away_team_card_color_r\t\t0.0 +/- 0.0\n",
      "home_team_card_color_y home_team_card_color_r\t\t0.0 +/- 0.001\n",
      "home_team_card_color_y2 home_elo\t\t-0.0 +/- 0.0\n",
      "home_team_card_color_y home_team_card_color_y2\t\t-0.0 +/- 0.001\n",
      "home_team_card_color_r home_fouls\t\t-0.0 +/- 0.001\n",
      "away_team_card_color_r home_fouls\t\t-0.0 +/- 0.001\n",
      "away_team_card_color_r home_elo\t\t-0.0 +/- 0.001\n",
      "home_team_card_color_r home_elo\t\t-0.0 +/- 0.001\n",
      "home_team_card_color_y2 away_elo\t\t-0.0 +/- 0.001\n",
      "away_team_card_color_r\t\t-0.0 +/- 0.001\n",
      "away_team_card_color_r away_elo\t\t-0.0 +/- 0.001\n",
      "home_fouls away_fouls\t\t-0.002 +/- 0.005\n",
      "home_team_card_color_r away_fouls\t\t-0.002 +/- 0.001\n",
      "home_elo home_fouls\t\t-0.003 +/- 0.006\n",
      "home_team_card_color_y2 away_fouls\t\t-0.003 +/- 0.0\n",
      "away_team_card_color_y home_team_card_color_r\t\t-0.003 +/- 0.001\n",
      "home_team_card_color_y home_fouls\t\t-0.003 +/- 0.005\n",
      "home_team_card_color_y away_team_card_color_r\t\t-0.003 +/- 0.001\n",
      "home_team_card_color_y away_team_card_color_y\t\t-0.004 +/- 0.005\n",
      "away_team_card_color_y home_elo\t\t-0.005 +/- 0.006\n",
      "away_team_card_color_y home_fouls\t\t-0.005 +/- 0.003\n",
      "away_team_card_color_y\t\t-0.005 +/- 0.004\n",
      "home_team_card_color_y home_elo\t\t-0.005 +/- 0.008\n",
      "away_fouls\t\t-0.006 +/- 0.003\n",
      "away_elo home_fouls\t\t-0.007 +/- 0.006\n",
      "home_elo away_fouls\t\t-0.007 +/- 0.005\n",
      "away_elo away_fouls\t\t-0.009 +/- 0.006\n",
      "home_team_card_color_y\t\t-0.009 +/- 0.005\n",
      "away_team_card_color_y away_fouls\t\t-0.01 +/- 0.005\n",
      "home_team_card_color_y away_elo\t\t-0.013 +/- 0.01\n",
      "home_team_card_color_y away_fouls\t\t-0.014 +/- 0.005\n"
     ]
    }
   ],
   "source": [
    "qual_idx = []\n",
    "for i in r2.importances_mean.argsort()[::-1]:\n",
    "    #if r2.importances_mean[i] - 2* r2.importances_std[i] > 0:\n",
    "    qual_idx += [i]\n",
    "    print(\"{feat}\\t\\t{mean} +/- {std}\".format(\n",
    "        feat =poly.get_feature_names_out()[i],\n",
    "        mean = np.round(r2.importances_mean[i], 3),\n",
    "        std = np.round(r2.importances_std[i], 3)\n",
    "    ))"
   ]
  },
  {
   "cell_type": "code",
   "execution_count": null,
   "id": "52a70ac7",
   "metadata": {},
   "outputs": [],
   "source": []
  }
 ],
 "metadata": {
  "kernelspec": {
   "display_name": "Python 3 (ipykernel)",
   "language": "python",
   "name": "python3"
  },
  "language_info": {
   "codemirror_mode": {
    "name": "ipython",
    "version": 3
   },
   "file_extension": ".py",
   "mimetype": "text/x-python",
   "name": "python",
   "nbconvert_exporter": "python",
   "pygments_lexer": "ipython3",
   "version": "3.8.0"
  }
 },
 "nbformat": 4,
 "nbformat_minor": 5
}
